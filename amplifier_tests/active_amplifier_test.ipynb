{
 "cells": [
  {
   "cell_type": "code",
   "execution_count": 422,
   "id": "022613b4-8125-4dea-9ddc-7dc11c642095",
   "metadata": {},
   "outputs": [],
   "source": [
    "import skrf as rf\n",
    "from skrf.constants import K_BOLTZMANN\n",
    "import numpy as np\n",
    "import matplotlib.pyplot as plt\n",
    "import pandas as pd\n",
    "from pathlib import Path\n",
    "from scipy.interpolate import interp1d\n",
    "from devices.devices_lib import make_cavity__with_antennas_network # From Chirstan Boutan's PNNL team\n",
    "import components as cmp # From Jihee\n",
    "import os.path\n",
    "\n",
    "%matplotlib inline"
   ]
  },
  {
   "cell_type": "code",
   "execution_count": 423,
   "id": "cd6e3cda-019c-4f4e-9677-572ac34233d0",
   "metadata": {},
   "outputs": [],
   "source": [
    "freq = rf.frequency.Frequency(start=0.4, stop=1.0, npoints=1001, unit='ghz', sweep_type='lin')\n",
    "Troom = 290"
   ]
  },
  {
   "cell_type": "markdown",
   "id": "ee5b366f-9c99-42cd-a1fd-ac7929af07a8",
   "metadata": {
    "tags": []
   },
   "source": [
    "# Component Functions"
   ]
  },
  {
   "cell_type": "code",
   "execution_count": 424,
   "id": "032a99cb-3eee-42e2-8706-66fa17ae0f3a",
   "metadata": {},
   "outputs": [],
   "source": [
    "###############################\n",
    "##### Component Functions   ###\n",
    "###############################\n",
    "#(From Jihee's components.py and analyis_run1C_tsys.py)\n",
    "\n",
    "pow_to_dbm = lambda x: 10*np.log(x/1e-3)\n",
    "\n",
    "### Function to read network in noisy environment ###\n",
    "def read_in_noisy_network(ntw,freq_interp,Tphys):\n",
    "    ntw_interp = ntw.interpolate(freq_interp, kind='cubic')\n",
    "    ntw_interp_noisy = rf.NoisyNetwork(ntw_interp)\n",
    "    ntw_interp_noisy.noise_source(source='passive',T0 = Tphys)\n",
    "\n",
    "    return ntw_interp_noisy\n",
    "\n",
    "### Function to make coaxial cable with coaxial line and SMA connector sample ###\n",
    "def make_coax_cable(c_type,freq,len_m,Tphys):\n",
    "        \n",
    "    if c_type=='RG405U':\n",
    "        ntw_coax_RT = cmp.cable_RG405U(freq,len_m)     #! replace cables with room temp, right type\n",
    "        ntw_coax_cryo = cmp.RT2Cryo(ntw_coax_RT)\n",
    "        # ntw_coax_cryo = ntw_coax_RT\n",
    "        # ntw_SMA_RT = cmp.cable_RG405U(freq,0.04)\n",
    "        ntw_SMA_RT = cmp.SMA_RG405U(freq,0.015)\n",
    "        ntw_SMA_cryo = cmp.RT2Cryo(ntw_SMA_RT)\n",
    "        # ntw_SMA_cryo = ntw_SMA_RT\n",
    "    elif c_type=='PESR405FL':    \n",
    "        ntw_coax_RT = cmp.cable_PESR405FL(freq,len_m)\n",
    "        ntw_coax_cryo = cmp.RT2Cryo(ntw_coax_RT)\n",
    "        # ntw_coax_cryo = ntw_coax_RT\n",
    "        # ntw_SMA_RT = cmp.cable_PESR405FL(freq,0.04)\n",
    "        ntw_SMA_RT = cmp.SMA_PESR405FL(freq,0.015)\n",
    "        ntw_SMA_cryo = cmp.RT2Cryo(ntw_SMA_RT)\n",
    "        # ntw_SMA_cryo = ntw_SMA_RT\n",
    "    elif c_type=='NbTi085':\n",
    "        ntw_coax_cryo = cmp.cable_NbTi085(freq,len_m)\n",
    "        ntw_SMA_cryo = cmp.cable_NbTi085(freq,0.015)\n",
    "    else:\n",
    "        print('Error: Proper cable type is missing')\n",
    "\n",
    "    noisy_ntw_coax = read_in_noisy_network(ntw_coax_cryo,freq,Tphys)\n",
    "    noisy_ntw_SMA = read_in_noisy_network(ntw_SMA_cryo, freq, Tphys)\n",
    "    \n",
    "    assmb_cable = rf.MultiNoisyNetworkSystem()\n",
    "\n",
    "    noisy_ntw_SMA.add_noise_polar(1e-6, 0.5)\n",
    "    assmb_cable.add(noisy_ntw_SMA,'SMA1')\n",
    "    assmb_cable.add(noisy_ntw_coax,'coax')\n",
    "    noisy_ntw_SMA.add_noise_polar(1e-6, 0.55)\n",
    "    assmb_cable.add(noisy_ntw_SMA,'SMA2')\n",
    "\n",
    "    assmb_cable.connect('SMA1',2, 'coax',1)\n",
    "    assmb_cable.connect('coax',2, 'SMA2',1)\n",
    "\n",
    "    assmb_cable.external_port('SMA1',1,1)\n",
    "    assmb_cable.external_port('SMA2',2,2)\n",
    "\n",
    "    noisy_ntw_cable = assmb_cable.reduce()\n",
    "    noisy_ntw_cable = read_in_noisy_network(noisy_ntw_cable,freq,Tphys)\n",
    "        \n",
    "    return noisy_ntw_cable  "
   ]
  },
  {
   "cell_type": "markdown",
   "id": "711e4156-37a1-4720-9799-dac9038cbaf0",
   "metadata": {
    "tags": []
   },
   "source": [
    "# Creating amplifier from datasheet\n",
    "Code from Jihee"
   ]
  },
  {
   "cell_type": "code",
   "execution_count": 425,
   "id": "d35c8fbb-1131-4614-9e80-2724d96aeb6a",
   "metadata": {},
   "outputs": [],
   "source": [
    "\n",
    "# Creates a function of frequency that returns amplifier noise figure amplitudu\n",
    "def gen_ZX60_33LN_S_NF_func(ZX60_33LN_NF_loc):\n",
    "    \n",
    "    # read in nf data from a csv\n",
    "    # convert noise figure in db to amplitude\n",
    "    # Make a new column with frequency in GHz\n",
    "    # Interpolate noise figure as a function of frequency\n",
    "    \n",
    "    noise_figure_data2 = pd.read_csv(ZX60_33LN_NF_loc , header = 'infer')\n",
    "    noise_figure_data2['NF Amplitude'] = 10**(noise_figure_data2['Noise Figure (5V)']/10)\n",
    "    noise_figure_data2['Frequency (GHz)'] = noise_figure_data2['Frequency (MHz)']/1e3\n",
    "    NF_Func2 = interp1d(noise_figure_data2['Frequency (GHz)'],noise_figure_data2['NF Amplitude'])#,fill_value=1000) # <- extrapolate ok here?\n",
    "    \n",
    "    return NF_Func2\n",
    "\n",
    "def return_ZX60_33LN_params(Amp_path,Amp_name,freq,sat_check=False,vendor=True,Temp=290):\n",
    "    \n",
    "    # create amplifier from manufacturer's s2p file\n",
    "    \n",
    "    ZX60_33LN_NF_loc = r'/Users/zacharybanken/Desktop/research_stuff/Terminator_Temp_Test/amplifier_data/ZX60-33LN_NF.csv'\n",
    "    \n",
    "    Tphys = Temp\n",
    "    \n",
    "    Amp_loc = os.path.join(Amp_path,Amp_name)\n",
    "    amp_sparam = rf.Network(Amp_loc)\n",
    "    amp_sparam = amp_sparam.interpolate(freq,kind='cubic')\n",
    "    amp_sparam  = rf.NoisyNetwork(amp_sparam)\n",
    "    amp_sparam.noise_source(source='passive',T0=Tphys) # <-- why do we need this is we are specifying the cs matrix from the datasheet?\n",
    "    \n",
    "    # generate noise figure function\n",
    "    \n",
    "    try:\n",
    "        NF_func = gen_ZX60_33LN_S_NF_func(ZX60_33LN_NF_loc)\n",
    "        nfig = NF_func(freq.f/1e9)\n",
    "    except:\n",
    "        print('error')\n",
    "        return\n",
    "    \n",
    "    # use noise figure function to specify noise covariance matrix\n",
    "    # cs}_ii = k_B T_0 S A S^dagger }_ii (F_i - 1)\n",
    "        \n",
    "    Tnoise = rf.NetworkNoiseCov.Tnoise(freq.f,Tphys) # <-- where is this noise temperature used?\n",
    "    \n",
    "    I = np.identity(np.shape(amp_sparam.s)[1])\n",
    "    AS = np.matmul(I,np.conjugate(amp_sparam.s.swapaxes(1,2)))\n",
    "    SAS = np.matmul(amp_sparam.s,AS)\n",
    "    \n",
    "    amp_sparam.cs[:,0,0] = (nfig - 1) * K_BOLTZMANN * 290 * SAS[:,0,0]\n",
    "    \n",
    "    I = np.identity(np.shape(amp_sparam.s)[1])\n",
    "    AS = np.matmul(I,np.conjugate(amp_sparam.s.swapaxes(1,2)))\n",
    "    SAS = np.matmul(amp_sparam.s,AS)\n",
    "    \n",
    "    amp_sparam.cs[:,1,1] = (nfig-1) * K_BOLTZMANN * 290 * SAS[:,1,1]\n",
    "    \n",
    "    amp_sparam.cs[:,0,1] = np.zeros_like(amp_sparam.cs[:,1,1])\n",
    "    amp_sparam.cs[:,1,0] = amp_sparam.cs[:,0,1]\n",
    "    \n",
    "    return amp_sparam\n",
    "    "
   ]
  },
  {
   "cell_type": "markdown",
   "id": "71a2d214-d6af-49b7-8771-372cdd8caac9",
   "metadata": {
    "tags": []
   },
   "source": [
    "# Assembling Network"
   ]
  },
  {
   "cell_type": "code",
   "execution_count": 439,
   "id": "7cec9ff4-88c2-4d05-b327-3305dc2ed31f",
   "metadata": {},
   "outputs": [],
   "source": [
    "\n",
    "### Plotting Cs matrix for cavity to second circulator for a list of terminator temperatures\n",
    "\n",
    "T_SA = power_in_dBm_per_Hz_to_temp(-148.253) # <- Measured noise in dBm/Hz from spectrum analyzer with amplifiers off\n",
    "\n",
    "def plot_cs_simple_circuit(termi_temps):\n",
    "    \n",
    "    for termi_temp in termi_temps:\n",
    "        # Plot the power spectrum for the simple circuit setup in the lab. \n",
    "       \n",
    "    \n",
    "        #Terminator\n",
    "        ntw_termi = cmp.create_terminator(freq,Gamma_0=0.048) # what is our terminator gamma_0?\n",
    "        noisy_ntw_termi = read_in_noisy_network(ntw_termi, freq, termi_temp)\n",
    "\n",
    "        \n",
    "        #Cables\n",
    "        LEN_CABLE1 = 0.3 #m\n",
    "        LEN_CABLE2 = 0.3 #m\n",
    "\n",
    "        noisy_ntw_cable_1 = make_coax_cable('RG405U',freq,LEN_CABLE1,Troom) # <--- cable noise?\n",
    "        noisy_ntw_cable_2 = make_coax_cable('RG405U',freq,LEN_CABLE2,Troom)\n",
    "        \n",
    "        \n",
    "        #Amplifier\n",
    "        amp_path = '/Users/zacharybanken/Desktop/research_stuff/Terminator_Temp_Test/amplifier_data'\n",
    "        amp_name = 'ZX60-33LNR-S+_UNIT1_.s2p'\n",
    "\n",
    "        amp_sparam = return_ZX60_33LN_params(amp_path,amp_name,freq)\n",
    "    \n",
    "        amp1 = amp_sparam\n",
    "        amp2 = amp_sparam\n",
    "\n",
    "        \n",
    "        # Assemble circuit\n",
    "        # terminator -> cable 1 -> amp 1 -> amp 2 -> cable 2 -> Spectrum analyzer\n",
    "        mnns_simple_circ = rf.MultiNoisyNetworkSystem()\n",
    "\n",
    "        mnns_simple_circ.add(noisy_ntw_cable_1,'cable1')\n",
    "        mnns_simple_circ.add(noisy_ntw_cable_2,'cable2')\n",
    "        mnns_simple_circ.add(noisy_ntw_termi,'termi')\n",
    "        mnns_simple_circ.add(amp1,'amp1')\n",
    "        mnns_simple_circ.add(amp2,'amp2')\n",
    "\n",
    "        mnns_simple_circ.connect('termi',1,'cable1',1)\n",
    "        mnns_simple_circ.connect('cable1',2,'amp1',1)\n",
    "        mnns_simple_circ.connect('amp1',2,'amp2',1)\n",
    "        mnns_simple_circ.connect('amp2',2,'cable2',1)\n",
    "\n",
    "        mnns_simple_circ.external_port('cable2',2,1)\n",
    "\n",
    "        assem_simple_circ = mnns_simple_circ.reduce()\n",
    "        \n",
    "        \n",
    "        # Extract Noise temperature\n",
    "        ## Formula from Garcia paper\n",
    "        \n",
    "        SAS = np.matmul(assem_simple_circ.s,np.conjugate(np.swapaxes(assem_simple_circ.s,1,2)))\n",
    "        # print(assem_simple_circ.s)\n",
    "        # print(np.swapaxes(assem_simple_circ.s,1,2))\n",
    "        # print(SAS.shape)\n",
    "        # print(assem_simple_circ.cs.shape)\n",
    "        T_n_simple_circ  = (1/(K_BOLTZMANN))*assem_simple_circ.cs[:,0,0]/SAS[:,0,0] + T_SA # Te = 1/k_B * ( Cs / |s11|^2 ) <-- from formula for Cs.\n",
    "        \n",
    "        print(termi_temp,'K: ',T_n_simple_circ[-1]/1e9,'1e9')\n",
    "        \n",
    "        \n",
    "        # Plot noise temperature vs. frequency\n",
    "        plt.xlim(990,1000)\n",
    "        plt.plot(freq.f/1e6,T_n_simple_circ,label=termi_temp)\n",
    "        plt.xlabel('Frequency [MHz]')\n",
    "        plt.ylabel('Noise temp [K]')\n",
    "        plt.title(f' Simple Circuit \\n noise temperature')\n",
    "        plt.tight_layout(pad=0.3, w_pad=0.2, h_pad=0.2)\n",
    "        plt.legend()\n",
    "        \n",
    "    # plot measured SA background noise temp\n",
    "    plt.plot(freq.f/1e6, T_SA*np.ones_like(freq.f),label='SA')\n",
    "    \n",
    "    \n",
    "\n",
    "        \n",
    "\n"
   ]
  },
  {
   "cell_type": "code",
   "execution_count": 440,
   "id": "2f7991bc-709b-486b-87b8-fa3b674873fc",
   "metadata": {},
   "outputs": [
    {
     "name": "stdout",
     "output_type": "stream",
     "text": [
      "290 K:  (1.6473947858000786-4.395256383136972e-17j) 1e9\n",
      "77 K:  (0.7040415736611528+1.6595164611577582e-17j) 1e9\n"
     ]
    },
    {
     "name": "stderr",
     "output_type": "stream",
     "text": [
      "/Users/zacharybanken/opt/anaconda3/lib/python3.9/site-packages/numpy/core/_asarray.py:102: ComplexWarning: Casting complex values to real discards the imaginary part\n",
      "  return array(a, dtype, copy=False, order=order)\n",
      "/Users/zacharybanken/opt/anaconda3/lib/python3.9/site-packages/numpy/core/_asarray.py:102: ComplexWarning: Casting complex values to real discards the imaginary part\n",
      "  return array(a, dtype, copy=False, order=order)\n"
     ]
    },
    {
     "data": {
      "image/png": "[encoded data removed]",
      "text/plain": [
       "<Figure size 432x288 with 1 Axes>"
      ]
     },
     "metadata": {
      "needs_background": "light"
     },
     "output_type": "display_data"
    }
   ],
   "source": [
    "\n",
    "plot_cs_simple_circuit([290,77])"
   ]
  },
  {
   "cell_type": "markdown",
   "id": "236c54f0-d15d-4505-a1da-e35962c4cd8f",
   "metadata": {
    "tags": []
   },
   "source": [
    "# Measured Values"
   ]
  },
  {
   "cell_type": "code",
   "execution_count": 428,
   "id": "d3a0382b-730f-4264-ac8c-cd3b223299ad",
   "metadata": {},
   "outputs": [
    {
     "name": "stdout",
     "output_type": "stream",
     "text": [
      "SA (amp off):  0.00011 1e9 K\n",
      "T_termi = 290K:  0.00221 1e9 K\n",
      "T_termi = 77K:  0.000997 1e9 K\n"
     ]
    }
   ],
   "source": [
    "\n",
    "dBm_to_W = lambda p_dBm: 10**(p_dBm/10)/1000\n",
    "power_in_dBm_per_Hz_to_temp = lambda p: dBm_to_W(p)/K_BOLTZMANN\n",
    "\n",
    "# noise power was measured at 1 Ghz over 1 Hz bandwidth (in dBm / Hz)\n",
    "\n",
    "print('SA (amp off): ',round(power_in_dBm_per_Hz_to_temp(-148.253)/1e9,5),'1e9 K' )\n",
    "print('T_termi = 290K: ',round(power_in_dBm_per_Hz_to_temp(-135.15)/1e9,5), '1e9 K')\n",
    "print('T_termi = 77K: ',round(power_in_dBm_per_Hz_to_temp(-138.611)/1e9,6), '1e9 K')\n"
   ]
  }
 ],
 "metadata": {
  "kernelspec": {
   "display_name": "Python 3 (ipykernel)",
   "language": "python",
   "name": "python3"
  },
  "language_info": {
   "codemirror_mode": {
    "name": "ipython",
    "version": 3
   },
   "file_extension": ".py",
   "mimetype": "text/x-python",
   "name": "python",
   "nbconvert_exporter": "python",
   "pygments_lexer": "ipython3",
   "version": "3.9.7"
  }
 },
 "nbformat": 4,
 "nbformat_minor": 5
}
