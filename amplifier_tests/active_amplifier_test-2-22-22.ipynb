{
 "cells": [
  {
   "cell_type": "code",
   "execution_count": 422,
   "id": "022613b4-8125-4dea-9ddc-7dc11c642095",
   "metadata": {},
   "outputs": [],
   "source": [
    "import skrf as rf\n",
    "from skrf.constants import K_BOLTZMANN\n",
    "import numpy as np\n",
    "import matplotlib.pyplot as plt\n",
    "import pandas as pd\n",
    "from pathlib import Path\n",
    "from scipy.interpolate import interp1d\n",
    "from devices.devices_lib import make_cavity__with_antennas_network # From Chirstan Boutan's PNNL team\n",
    "import components as cmp # From Jihee\n",
    "import os.path\n",
    "\n",
    "%matplotlib inline"
   ]
  },
  {
   "cell_type": "code",
   "execution_count": 423,
   "id": "cd6e3cda-019c-4f4e-9677-572ac34233d0",
   "metadata": {},
   "outputs": [],
   "source": [
    "freq = rf.frequency.Frequency(start=0.4, stop=1.0, npoints=1001, unit='ghz', sweep_type='lin')\n",
    "Troom = 290"
   ]
  },
  {
   "cell_type": "markdown",
   "id": "ee5b366f-9c99-42cd-a1fd-ac7929af07a8",
   "metadata": {
    "tags": []
   },
   "source": [
    "# Component Functions"
   ]
  },
  {
   "cell_type": "code",
   "execution_count": 424,
   "id": "032a99cb-3eee-42e2-8706-66fa17ae0f3a",
   "metadata": {},
   "outputs": [],
   "source": [
    "###############################\n",
    "##### Component Functions   ###\n",
    "###############################\n",
    "#(From Jihee's components.py and analyis_run1C_tsys.py)\n",
    "\n",
    "pow_to_dbm = lambda x: 10*np.log(x/1e-3)\n",
    "\n",
    "### Function to read network in noisy environment ###\n",
    "def read_in_noisy_network(ntw,freq_interp,Tphys):\n",
    "    ntw_interp = ntw.interpolate(freq_interp, kind='cubic')\n",
    "    ntw_interp_noisy = rf.NoisyNetwork(ntw_interp)\n",
    "    ntw_interp_noisy.noise_source(source='passive',T0 = Tphys)\n",
    "\n",
    "    return ntw_interp_noisy\n",
    "\n",
    "### Function to make coaxial cable with coaxial line and SMA connector sample ###\n",
    "def make_coax_cable(c_type,freq,len_m,Tphys):\n",
    "        \n",
    "    if c_type=='RG405U':\n",
    "        ntw_coax_RT = cmp.cable_RG405U(freq,len_m)     #! replace cables with room temp, right type\n",
    "        ntw_coax_cryo = cmp.RT2Cryo(ntw_coax_RT)\n",
    "        # ntw_coax_cryo = ntw_coax_RT\n",
    "        # ntw_SMA_RT = cmp.cable_RG405U(freq,0.04)\n",
    "        ntw_SMA_RT = cmp.SMA_RG405U(freq,0.015)\n",
    "        ntw_SMA_cryo = cmp.RT2Cryo(ntw_SMA_RT)\n",
    "        # ntw_SMA_cryo = ntw_SMA_RT\n",
    "    elif c_type=='PESR405FL':    \n",
    "        ntw_coax_RT = cmp.cable_PESR405FL(freq,len_m)\n",
    "        ntw_coax_cryo = cmp.RT2Cryo(ntw_coax_RT)\n",
    "        # ntw_coax_cryo = ntw_coax_RT\n",
    "        # ntw_SMA_RT = cmp.cable_PESR405FL(freq,0.04)\n",
    "        ntw_SMA_RT = cmp.SMA_PESR405FL(freq,0.015)\n",
    "        ntw_SMA_cryo = cmp.RT2Cryo(ntw_SMA_RT)\n",
    "        # ntw_SMA_cryo = ntw_SMA_RT\n",
    "    elif c_type=='NbTi085':\n",
    "        ntw_coax_cryo = cmp.cable_NbTi085(freq,len_m)\n",
    "        ntw_SMA_cryo = cmp.cable_NbTi085(freq,0.015)\n",
    "    else:\n",
    "        print('Error: Proper cable type is missing')\n",
    "\n",
    "    noisy_ntw_coax = read_in_noisy_network(ntw_coax_cryo,freq,Tphys)\n",
    "    noisy_ntw_SMA = read_in_noisy_network(ntw_SMA_cryo, freq, Tphys)\n",
    "    \n",
    "    assmb_cable = rf.MultiNoisyNetworkSystem()\n",
    "\n",
    "    noisy_ntw_SMA.add_noise_polar(1e-6, 0.5)\n",
    "    assmb_cable.add(noisy_ntw_SMA,'SMA1')\n",
    "    assmb_cable.add(noisy_ntw_coax,'coax')\n",
    "    noisy_ntw_SMA.add_noise_polar(1e-6, 0.55)\n",
    "    assmb_cable.add(noisy_ntw_SMA,'SMA2')\n",
    "\n",
    "    assmb_cable.connect('SMA1',2, 'coax',1)\n",
    "    assmb_cable.connect('coax',2, 'SMA2',1)\n",
    "\n",
    "    assmb_cable.external_port('SMA1',1,1)\n",
    "    assmb_cable.external_port('SMA2',2,2)\n",
    "\n",
    "    noisy_ntw_cable = assmb_cable.reduce()\n",
    "    noisy_ntw_cable = read_in_noisy_network(noisy_ntw_cable,freq,Tphys)\n",
    "        \n",
    "    return noisy_ntw_cable  "
   ]
  },
  {
   "cell_type": "markdown",
   "id": "711e4156-37a1-4720-9799-dac9038cbaf0",
   "metadata": {
    "tags": []
   },
   "source": [
    "# Creating amplifier from datasheet\n",
    "Code from Jihee"
   ]
  },
  {
   "cell_type": "code",
   "execution_count": 425,
   "id": "d35c8fbb-1131-4614-9e80-2724d96aeb6a",
   "metadata": {},
   "outputs": [],
   "source": [
    "\n",
    "# Creates a function of frequency that returns amplifier noise figure amplitudu\n",
    "def gen_ZX60_33LN_S_NF_func(ZX60_33LN_NF_loc):\n",
    "    \n",
    "    # read in nf data from a csv\n",
    "    # convert noise figure in db to amplitude\n",
    "    # Make a new column with frequency in GHz\n",
    "    # Interpolate noise figure as a function of frequency\n",
    "    \n",
    "    noise_figure_data2 = pd.read_csv(ZX60_33LN_NF_loc , header = 'infer')\n",
    "    noise_figure_data2['NF Amplitude'] = 10**(noise_figure_data2['Noise Figure (5V)']/10)\n",
    "    noise_figure_data2['Frequency (GHz)'] = noise_figure_data2['Frequency (MHz)']/1e3\n",
    "    NF_Func2 = interp1d(noise_figure_data2['Frequency (GHz)'],noise_figure_data2['NF Amplitude'])#,fill_value=1000) # <- extrapolate ok here?\n",
    "    \n",
    "    return NF_Func2\n",
    "\n",
    "def return_ZX60_33LN_params(Amp_path,Amp_name,freq,sat_check=False,vendor=True,Temp=290):\n",
    "    \n",
    "    # create amplifier from manufacturer's s2p file\n",
    "    \n",
    "    ZX60_33LN_NF_loc = r'/Users/zacharybanken/Desktop/research_stuff/Terminator_Temp_Test/amplifier_data/ZX60-33LN_NF.csv'\n",
    "    \n",
    "    Tphys = Temp\n",
    "    \n",
    "    Amp_loc = os.path.join(Amp_path,Amp_name)\n",
    "    amp_sparam = rf.Network(Amp_loc)\n",
    "    amp_sparam = amp_sparam.interpolate(freq,kind='cubic')\n",
    "    amp_sparam  = rf.NoisyNetwork(amp_sparam)\n",
    "    amp_sparam.noise_source(source='passive',T0=Tphys) # <-- why do we need this is we are specifying the cs matrix from the datasheet?\n",
    "    \n",
    "    # generate noise figure function\n",
    "    \n",
    "    try:\n",
    "        NF_func = gen_ZX60_33LN_S_NF_func(ZX60_33LN_NF_loc)\n",
    "        nfig = NF_func(freq.f/1e9)\n",
    "    except:\n",
    "        print('error')\n",
    "        return\n",
    "    \n",
    "    # use noise figure function to specify noise covariance matrix\n",
    "    # cs}_ii = k_B T_0 S A S^dagger }_ii (F_i - 1)\n",
    "        \n",
    "    Tnoise = rf.NetworkNoiseCov.Tnoise(freq.f,Tphys) # <-- where is this noise temperature used?\n",
    "    \n",
    "    I = np.identity(np.shape(amp_sparam.s)[1])\n",
    "    AS = np.matmul(I,np.conjugate(amp_sparam.s.swapaxes(1,2)))\n",
    "    SAS = np.matmul(amp_sparam.s,AS)\n",
    "    \n",
    "    amp_sparam.cs[:,0,0] = (nfig - 1) * K_BOLTZMANN * 290 * SAS[:,0,0]\n",
    "    \n",
    "    I = np.identity(np.shape(amp_sparam.s)[1])\n",
    "    AS = np.matmul(I,np.conjugate(amp_sparam.s.swapaxes(1,2)))\n",
    "    SAS = np.matmul(amp_sparam.s,AS)\n",
    "    \n",
    "    amp_sparam.cs[:,1,1] = (nfig-1) * K_BOLTZMANN * 290 * SAS[:,1,1]\n",
    "    \n",
    "    amp_sparam.cs[:,0,1] = np.zeros_like(amp_sparam.cs[:,1,1])\n",
    "    amp_sparam.cs[:,1,0] = amp_sparam.cs[:,0,1]\n",
    "    \n",
    "    return amp_sparam\n",
    "    "
   ]
  },
  {
   "cell_type": "markdown",
   "id": "71a2d214-d6af-49b7-8771-372cdd8caac9",
   "metadata": {
    "tags": []
   },
   "source": [
    "# Assembling Network"
   ]
  },
  {
   "cell_type": "code",
   "execution_count": 439,
   "id": "7cec9ff4-88c2-4d05-b327-3305dc2ed31f",
   "metadata": {},
   "outputs": [],
   "source": [
    "\n",
    "### Plotting Cs matrix for cavity to second circulator for a list of terminator temperatures\n",
    "\n",
    "T_SA = power_in_dBm_per_Hz_to_temp(-148.253) # <- Measured noise in dBm/Hz from spectrum analyzer with amplifiers off\n",
    "\n",
    "def plot_cs_simple_circuit(termi_temps):\n",
    "    \n",
    "    for termi_temp in termi_temps:\n",
    "        # Plot the power spectrum for the simple circuit setup in the lab. \n",
    "       \n",
    "    \n",
    "        #Terminator\n",
    "        ntw_termi = cmp.create_terminator(freq,Gamma_0=0.048) # what is our terminator gamma_0?\n",
    "        noisy_ntw_termi = read_in_noisy_network(ntw_termi, freq, termi_temp)\n",
    "\n",
    "        \n",
    "        #Cables\n",
    "        LEN_CABLE1 = 0.3 #m\n",
    "        LEN_CABLE2 = 0.3 #m\n",
    "\n",
    "        noisy_ntw_cable_1 = make_coax_cable('RG405U',freq,LEN_CABLE1,Troom) # <--- cable noise?\n",
    "        noisy_ntw_cable_2 = make_coax_cable('RG405U',freq,LEN_CABLE2,Troom)\n",
    "        \n",
    "        \n",
    "        #Amplifier\n",
    "        amp_path = '/Users/zacharybanken/Desktop/research_stuff/Terminator_Temp_Test/amplifier_data'\n",
    "        amp_name = 'ZX60-33LNR-S+_UNIT1_.s2p'\n",
    "\n",
    "        amp_sparam = return_ZX60_33LN_params(amp_path,amp_name,freq)\n",
    "    \n",
    "        amp1 = amp_sparam\n",
    "        amp2 = amp_sparam\n",
    "\n",
    "        \n",
    "        # Assemble circuit\n",
    "        # terminator -> cable 1 -> amp 1 -> amp 2 -> cable 2 -> Spectrum analyzer\n",
    "        mnns_simple_circ = rf.MultiNoisyNetworkSystem()\n",
    "\n",
    "        mnns_simple_circ.add(noisy_ntw_cable_1,'cable1')\n",
    "        mnns_simple_circ.add(noisy_ntw_cable_2,'cable2')\n",
    "        mnns_simple_circ.add(noisy_ntw_termi,'termi')\n",
    "        mnns_simple_circ.add(amp1,'amp1')\n",
    "        mnns_simple_circ.add(amp2,'amp2')\n",
    "\n",
    "        mnns_simple_circ.connect('termi',1,'cable1',1)\n",
    "        mnns_simple_circ.connect('cable1',2,'amp1',1)\n",
    "        mnns_simple_circ.connect('amp1',2,'amp2',1)\n",
    "        mnns_simple_circ.connect('amp2',2,'cable2',1)\n",
    "\n",
    "        mnns_simple_circ.external_port('cable2',2,1)\n",
    "\n",
    "        assem_simple_circ = mnns_simple_circ.reduce()\n",
    "        \n",
    "        \n",
    "        # Extract Noise temperature\n",
    "        ## Formula from Garcia paper\n",
    "        \n",
    "        SAS = np.matmul(assem_simple_circ.s,np.conjugate(np.swapaxes(assem_simple_circ.s,1,2)))\n",
    "        # print(assem_simple_circ.s)\n",
    "        # print(np.swapaxes(assem_simple_circ.s,1,2))\n",
    "        # print(SAS.shape)\n",
    "        # print(assem_simple_circ.cs.shape)\n",
    "        T_n_simple_circ  = (1/(K_BOLTZMANN))*assem_simple_circ.cs[:,0,0]/SAS[:,0,0] + T_SA # Te = 1/k_B * ( Cs / |s11|^2 ) <-- from formula for Cs.\n",
    "        \n",
    "        print(termi_temp,'K: ',T_n_simple_circ[-1]/1e9,'1e9')\n",
    "        \n",
    "        \n",
    "        # Plot noise temperature vs. frequency\n",
    "        plt.xlim(990,1000)\n",
    "        plt.plot(freq.f/1e6,T_n_simple_circ,label=termi_temp)\n",
    "        plt.xlabel('Frequency [MHz]')\n",
    "        plt.ylabel('Noise temp [K]')\n",
    "        plt.title(f' Simple Circuit \\n noise temperature')\n",
    "        plt.tight_layout(pad=0.3, w_pad=0.2, h_pad=0.2)\n",
    "        plt.legend()\n",
    "        \n",
    "    # plot measured SA background noise temp\n",
    "    plt.plot(freq.f/1e6, T_SA*np.ones_like(freq.f),label='SA')\n",
    "    \n",
    "    \n",
    "\n",
    "        \n",
    "\n"
   ]
  },
  {
   "cell_type": "code",
   "execution_count": 440,
   "id": "2f7991bc-709b-486b-87b8-fa3b674873fc",
   "metadata": {},
   "outputs": [
    {
     "name": "stdout",
     "output_type": "stream",
     "text": [
      "290 K:  (1.6473947858000786-4.395256383136972e-17j) 1e9\n",
      "77 K:  (0.7040415736611528+1.6595164611577582e-17j) 1e9\n"
     ]
    },
    {
     "name": "stderr",
     "output_type": "stream",
     "text": [
      "/Users/zacharybanken/opt/anaconda3/lib/python3.9/site-packages/numpy/core/_asarray.py:102: ComplexWarning: Casting complex values to real discards the imaginary part\n",
      "  return array(a, dtype, copy=False, order=order)\n",
      "/Users/zacharybanken/opt/anaconda3/lib/python3.9/site-packages/numpy/core/_asarray.py:102: ComplexWarning: Casting complex values to real discards the imaginary part\n",
      "  return array(a, dtype, copy=False, order=order)\n"
     ]
    },
    {
     "data": {
      "image/png": "[encoded data removed]",
      "text/plain": [
       "<Figure size 432x288 with 1 Axes>"
      ]
     },
     "metadata": {
      "needs_background": "light"
     },
     "output_type": "display_data"
    }
   ],
   "source": [
    "\n",
    "plot_cs_simple_circuit([290,77])"
   ]
  },
  {
   "cell_type": "markdown",
   "id": "236c54f0-d15d-4505-a1da-e35962c4cd8f",
   "metadata": {},
   "source": [
    "# Measured Values"
   ]
  },
  {
   "cell_type": "code",
   "execution_count": 428,
   "id": "d3a0382b-730f-4264-ac8c-cd3b223299ad",
   "metadata": {},
   "outputs": [
    {
     "name": "stdout",
     "output_type": "stream",
     "text": [
      "SA (amp off):  0.00011 1e9 K\n",
      "T_termi = 290K:  0.00221 1e9 K\n",
      "T_termi = 77K:  0.000997 1e9 K\n"
     ]
    }
   ],
   "source": [
    "\n",
    "dBm_to_W = lambda p_dBm: 10**(p_dBm/10)/1000\n",
    "power_in_dBm_per_Hz_to_temp = lambda p: dBm_to_W(p)/K_BOLTZMANN\n",
    "\n",
    "# noise power was measured at 1 Ghz over 1 Hz bandwidth (in dBm / Hz)\n",
    "\n",
    "print('SA (amp off): ',round(power_in_dBm_per_Hz_to_temp(-148.253)/1e9,5),'1e9 K' )\n",
    "print('T_termi = 290K: ',round(power_in_dBm_per_Hz_to_temp(-135.15)/1e9,5), '1e9 K')\n",
    "print('T_termi = 77K: ',round(power_in_dBm_per_Hz_to_temp(-138.611)/1e9,6), '1e9 K')\n"
   ]
  },
  {
   "cell_type": "code",
   "execution_count": null,
   "id": "2f1fb958-dbab-4ded-9a01-a311edac4f17",
   "metadata": {},
   "outputs": [],
   "source": []
  },
  {
   "cell_type": "code",
   "execution_count": null,
   "id": "3ca513ab-2774-4003-a1cd-12ad93d17d36",
   "metadata": {},
   "outputs": [],
   "source": [
    "\n",
    "\n",
    "\n",
    "\n",
    "\n",
    "\n",
    "\n",
    "\n",
    "\n"
   ]
  },
  {
   "cell_type": "code",
   "execution_count": null,
   "id": "b62f035b-ae8d-463d-b627-cab55eff94ee",
   "metadata": {},
   "outputs": [],
   "source": []
  },
  {
   "cell_type": "code",
   "execution_count": null,
   "id": "097a3372-40f7-48fa-ba0b-9cffe0ae0198",
   "metadata": {},
   "outputs": [],
   "source": []
  },
  {
   "cell_type": "code",
   "execution_count": null,
   "id": "04af4a60-c51e-4acf-bc43-028ce25f11af",
   "metadata": {},
   "outputs": [],
   "source": []
  },
  {
   "cell_type": "code",
   "execution_count": 429,
   "id": "4d0d341c-90a5-488c-ac16-1ecf8506ab92",
   "metadata": {},
   "outputs": [
    {
     "data": {
      "text/plain": [
       "<matplotlib.legend.Legend at 0x7fae40523970>"
      ]
     },
     "execution_count": 429,
     "metadata": {},
     "output_type": "execute_result"
    },
    {
     "data": {
      "image/png": "[encoded data removed]",
      "text/plain": [
       "<Figure size 432x288 with 1 Axes>"
      ]
     },
     "metadata": {
      "needs_background": "light"
     },
     "output_type": "display_data"
    }
   ],
   "source": [
    "\n",
    "ZX60_33LN_NF_loc = r'/Users/zacharybanken/Desktop/research_stuff/Terminator_Temp_Test/amplifier_data/ZX60-33LN_NF.csv'\n",
    "NF_func = gen_ZX60_33LN_S_NF_func(ZX60_33LN_NF_loc)\n",
    "nfig = NF_func(freq.f/1e9)\n",
    "plt.xlim(990,1000)\n",
    "plt.xlabel('Frequency [MHz]')\n",
    "plt.ylabel('Noise temp [K]')\n",
    "plt.plot(freq.f/1e6, (nfig-1)*290,label='T from NF')\n",
    "plt.legend()"
   ]
  },
  {
   "cell_type": "code",
   "execution_count": null,
   "id": "267f16e5-5378-4265-a199-2fd892749cb5",
   "metadata": {},
   "outputs": [],
   "source": []
  },
  {
   "cell_type": "code",
   "execution_count": 430,
   "id": "4da63763-7571-44d7-921f-a46c6f41818e",
   "metadata": {},
   "outputs": [
    {
     "data": {
      "text/plain": [
       "array([4.000e+08, 4.006e+08, 4.012e+08, ..., 9.988e+08, 9.994e+08,\n",
       "       1.000e+09])"
      ]
     },
     "execution_count": 430,
     "metadata": {},
     "output_type": "execute_result"
    }
   ],
   "source": [
    "freq.f"
   ]
  },
  {
   "cell_type": "code",
   "execution_count": 431,
   "id": "80f9220e-36ce-4116-8e36-794981786705",
   "metadata": {},
   "outputs": [
    {
     "data": {
      "text/html": [
       "<div>\n",
       "<style scoped>\n",
       "    .dataframe tbody tr th:only-of-type {\n",
       "        vertical-align: middle;\n",
       "    }\n",
       "\n",
       "    .dataframe tbody tr th {\n",
       "        vertical-align: top;\n",
       "    }\n",
       "\n",
       "    .dataframe thead th {\n",
       "        text-align: right;\n",
       "    }\n",
       "</style>\n",
       "<table border=\"1\" class=\"dataframe\">\n",
       "  <thead>\n",
       "    <tr style=\"text-align: right;\">\n",
       "      <th></th>\n",
       "      <th>Frequency (MHz)</th>\n",
       "      <th>Noise Figure (3V)</th>\n",
       "      <th>Noise Figure (5V)</th>\n",
       "      <th>NF Amplitude</th>\n",
       "      <th>Frequency (GHz)</th>\n",
       "    </tr>\n",
       "  </thead>\n",
       "  <tbody>\n",
       "    <tr>\n",
       "      <th>0</th>\n",
       "      <td>50</td>\n",
       "      <td>1.26</td>\n",
       "      <td>1.60</td>\n",
       "      <td>1.445440</td>\n",
       "      <td>0.05</td>\n",
       "    </tr>\n",
       "    <tr>\n",
       "      <th>1</th>\n",
       "      <td>100</td>\n",
       "      <td>0.96</td>\n",
       "      <td>1.11</td>\n",
       "      <td>1.291219</td>\n",
       "      <td>0.10</td>\n",
       "    </tr>\n",
       "    <tr>\n",
       "      <th>2</th>\n",
       "      <td>200</td>\n",
       "      <td>1.09</td>\n",
       "      <td>0.97</td>\n",
       "      <td>1.250259</td>\n",
       "      <td>0.20</td>\n",
       "    </tr>\n",
       "    <tr>\n",
       "      <th>3</th>\n",
       "      <td>300</td>\n",
       "      <td>0.90</td>\n",
       "      <td>0.98</td>\n",
       "      <td>1.253141</td>\n",
       "      <td>0.30</td>\n",
       "    </tr>\n",
       "    <tr>\n",
       "      <th>4</th>\n",
       "      <td>400</td>\n",
       "      <td>0.92</td>\n",
       "      <td>0.99</td>\n",
       "      <td>1.256030</td>\n",
       "      <td>0.40</td>\n",
       "    </tr>\n",
       "    <tr>\n",
       "      <th>5</th>\n",
       "      <td>500</td>\n",
       "      <td>0.92</td>\n",
       "      <td>1.01</td>\n",
       "      <td>1.261828</td>\n",
       "      <td>0.50</td>\n",
       "    </tr>\n",
       "    <tr>\n",
       "      <th>6</th>\n",
       "      <td>600</td>\n",
       "      <td>0.94</td>\n",
       "      <td>1.04</td>\n",
       "      <td>1.270574</td>\n",
       "      <td>0.60</td>\n",
       "    </tr>\n",
       "    <tr>\n",
       "      <th>7</th>\n",
       "      <td>700</td>\n",
       "      <td>1.20</td>\n",
       "      <td>1.30</td>\n",
       "      <td>1.348963</td>\n",
       "      <td>0.70</td>\n",
       "    </tr>\n",
       "    <tr>\n",
       "      <th>8</th>\n",
       "      <td>800</td>\n",
       "      <td>0.95</td>\n",
       "      <td>1.04</td>\n",
       "      <td>1.270574</td>\n",
       "      <td>0.80</td>\n",
       "    </tr>\n",
       "    <tr>\n",
       "      <th>9</th>\n",
       "      <td>900</td>\n",
       "      <td>0.95</td>\n",
       "      <td>1.03</td>\n",
       "      <td>1.267652</td>\n",
       "      <td>0.90</td>\n",
       "    </tr>\n",
       "    <tr>\n",
       "      <th>10</th>\n",
       "      <td>1000</td>\n",
       "      <td>0.87</td>\n",
       "      <td>0.96</td>\n",
       "      <td>1.247384</td>\n",
       "      <td>1.00</td>\n",
       "    </tr>\n",
       "    <tr>\n",
       "      <th>11</th>\n",
       "      <td>1500</td>\n",
       "      <td>0.85</td>\n",
       "      <td>0.95</td>\n",
       "      <td>1.244515</td>\n",
       "      <td>1.50</td>\n",
       "    </tr>\n",
       "    <tr>\n",
       "      <th>12</th>\n",
       "      <td>2000</td>\n",
       "      <td>1.05</td>\n",
       "      <td>1.20</td>\n",
       "      <td>1.318257</td>\n",
       "      <td>2.00</td>\n",
       "    </tr>\n",
       "    <tr>\n",
       "      <th>13</th>\n",
       "      <td>2500</td>\n",
       "      <td>1.03</td>\n",
       "      <td>1.18</td>\n",
       "      <td>1.312200</td>\n",
       "      <td>2.50</td>\n",
       "    </tr>\n",
       "    <tr>\n",
       "      <th>14</th>\n",
       "      <td>3000</td>\n",
       "      <td>1.20</td>\n",
       "      <td>1.33</td>\n",
       "      <td>1.358313</td>\n",
       "      <td>3.00</td>\n",
       "    </tr>\n",
       "  </tbody>\n",
       "</table>\n",
       "</div>"
      ],
      "text/plain": [
       "    Frequency (MHz)  Noise Figure (3V)  Noise Figure (5V)  NF Amplitude  \\\n",
       "0                50               1.26               1.60      1.445440   \n",
       "1               100               0.96               1.11      1.291219   \n",
       "2               200               1.09               0.97      1.250259   \n",
       "3               300               0.90               0.98      1.253141   \n",
       "4               400               0.92               0.99      1.256030   \n",
       "5               500               0.92               1.01      1.261828   \n",
       "6               600               0.94               1.04      1.270574   \n",
       "7               700               1.20               1.30      1.348963   \n",
       "8               800               0.95               1.04      1.270574   \n",
       "9               900               0.95               1.03      1.267652   \n",
       "10             1000               0.87               0.96      1.247384   \n",
       "11             1500               0.85               0.95      1.244515   \n",
       "12             2000               1.05               1.20      1.318257   \n",
       "13             2500               1.03               1.18      1.312200   \n",
       "14             3000               1.20               1.33      1.358313   \n",
       "\n",
       "    Frequency (GHz)  \n",
       "0              0.05  \n",
       "1              0.10  \n",
       "2              0.20  \n",
       "3              0.30  \n",
       "4              0.40  \n",
       "5              0.50  \n",
       "6              0.60  \n",
       "7              0.70  \n",
       "8              0.80  \n",
       "9              0.90  \n",
       "10             1.00  \n",
       "11             1.50  \n",
       "12             2.00  \n",
       "13             2.50  \n",
       "14             3.00  "
      ]
     },
     "execution_count": 431,
     "metadata": {},
     "output_type": "execute_result"
    }
   ],
   "source": [
    "noise_figure_data2 = pd.read_csv(ZX60_33LN_NF_loc , header = 'infer')\n",
    "noise_figure_data2\n",
    "noise_figure_data2['NF Amplitude'] = 10**(noise_figure_data2['Noise Figure (5V)']/10)\n",
    "noise_figure_data2['Frequency (GHz)'] = noise_figure_data2['Frequency (MHz)']/1e3\n",
    "NF_Func2 = interp1d(noise_figure_data2['Frequency (GHz)'],noise_figure_data2['NF Amplitude'])#,fill_value='extrapolate') # <- extrapolate ok here?\n",
    "    \n",
    "noise_figure_data2"
   ]
  },
  {
   "cell_type": "code",
   "execution_count": 432,
   "id": "bf8a4c58-3bf2-4338-a380-5cef52a281a2",
   "metadata": {},
   "outputs": [
    {
     "data": {
      "text/plain": [
       "array(1.24623595)"
      ]
     },
     "execution_count": 432,
     "metadata": {},
     "output_type": "execute_result"
    }
   ],
   "source": [
    "NF_func = gen_ZX60_33LN_S_NF_func(ZX60_33LN_NF_loc)\n",
    "NF_func((50/1e3))\n",
    "NF_func(1200/1e3)"
   ]
  },
  {
   "cell_type": "code",
   "execution_count": 433,
   "id": "b8d20fda-7b2a-46f2-a353-be54c8bf4be4",
   "metadata": {},
   "outputs": [
    {
     "data": {
      "text/plain": [
       "<matplotlib.legend.Legend at 0x7fae4087b8b0>"
      ]
     },
     "execution_count": 433,
     "metadata": {},
     "output_type": "execute_result"
    },
    {
     "data": {
      "image/png": "[encoded data removed]",
      "text/plain": [
       "<Figure size 432x288 with 1 Axes>"
      ]
     },
     "metadata": {
      "needs_background": "light"
     },
     "output_type": "display_data"
    }
   ],
   "source": [
    "plt.xlim(0.5,1)\n",
    "plt.ylim(1.250,1.375)\n",
    "plt.plot(noise_figure_data2['Frequency (GHz)'],noise_figure_data2['NF Amplitude'],label='data')\n",
    "plt.plot(freq.f/1e9,NF_func(freq.f/1e9),'-.',label='interp')\n",
    "plt.legend()"
   ]
  },
  {
   "cell_type": "code",
   "execution_count": null,
   "id": "fb24deae-4cad-449a-82ad-17ae7f0d8c2f",
   "metadata": {},
   "outputs": [],
   "source": []
  },
  {
   "cell_type": "code",
   "execution_count": 434,
   "id": "f6f9dc06-f730-4517-8c8a-40d6d118712e",
   "metadata": {},
   "outputs": [
    {
     "name": "stderr",
     "output_type": "stream",
     "text": [
      "/Users/zacharybanken/opt/anaconda3/lib/python3.9/site-packages/numpy/core/_asarray.py:102: ComplexWarning: Casting complex values to real discards the imaginary part\n",
      "  return array(a, dtype, copy=False, order=order)\n",
      "No handles with labels found to put in legend.\n"
     ]
    },
    {
     "data": {
      "image/png": "[encoded data removed]",
      "text/plain": [
       "<Figure size 432x288 with 1 Axes>"
      ]
     },
     "metadata": {
      "needs_background": "light"
     },
     "output_type": "display_data"
    }
   ],
   "source": [
    "SAS = np.matmul(amp_sparam.s,np.conjugate(np.swapaxes(amp_sparam.s,1,2)))\n",
    "plt.plot(freq.f/1e6, amp_sparam.cs[:,1,1] / ( K_BOLTZMANN * SAS[:,1,1] ) ) \n",
    "plt.xlim(990,1000)\n",
    "plt.xlabel('Frequency [MHz]')\n",
    "plt.ylabel('Noise Temp [K]')\n",
    "plt.title(f' Amplifier')\n",
    "plt.legend()\n",
    "plt.tight_layout(pad=0.3, w_pad=0.2, h_pad=0.2)"
   ]
  },
  {
   "cell_type": "code",
   "execution_count": 435,
   "id": "fca4c843-3bc1-4d22-8dab-14d2744fa57c",
   "metadata": {},
   "outputs": [
    {
     "data": {
      "text/plain": [
       "array([-0.18385701-0.41037168j, -0.18476696-0.41005625j,\n",
       "       -0.18566298-0.40974142j, ..., -0.43559228+0.16053381j,\n",
       "       -0.43537387+0.16101695j, -0.43515464+0.16149894j])"
      ]
     },
     "execution_count": 435,
     "metadata": {},
     "output_type": "execute_result"
    }
   ],
   "source": [
    "amp_sparam.s[:,0,0]"
   ]
  },
  {
   "cell_type": "code",
   "execution_count": 436,
   "id": "d96c842c-be32-4b44-a1c7-0f0feb0b1243",
   "metadata": {},
   "outputs": [
    {
     "data": {
      "text/plain": [
       "(8.123441810123602+5.66593410190794e-16j)"
      ]
     },
     "execution_count": 436,
     "metadata": {},
     "output_type": "execute_result"
    }
   ],
   "source": [
    "noisy_ntw_cable_1 = make_coax_cable('RG405U',freq,0.3,Troom)\n",
    "\n",
    "I = np.identity(np.shape(noisy_ntw_cable_1.s)[1])\n",
    "AS = np.matmul(I,np.conjugate(noisy_ntw_cable_1.s.swapaxes(1,2)))\n",
    "SAS = np.matmul(noisy_ntw_cable_1.s,AS)\n",
    "\n",
    "Tcable = noisy_ntw_cable_1.cs[:,1,1]/( K_BOLTZMANN * SAS[:,1,1] )\n",
    "Tcable[-1]"
   ]
  },
  {
   "cell_type": "code",
   "execution_count": 437,
   "id": "09b5cad3-0d8d-416f-ac4a-bf3e3b8304cc",
   "metadata": {},
   "outputs": [
    {
     "name": "stdout",
     "output_type": "stream",
     "text": [
      "cable noise temp:  (8.123441810123602+5.66593410190794e-16j)\n"
     ]
    }
   ],
   "source": [
    "I = np.identity(np.shape(noisy_ntw_cable_1.s)[1])\n",
    "AS = np.matmul(I,np.conjugate(noisy_ntw_cable_1.s.swapaxes(1,2)))\n",
    "SAS = np.matmul(noisy_ntw_cable_1.s,AS)\n",
    "\n",
    "Tcable = noisy_ntw_cable_1.cs[:,1,1]/( K_BOLTZMANN * SAS[:,1,1] )\n",
    "print('cable noise temp: ',Tcable[-1])"
   ]
  },
  {
   "cell_type": "code",
   "execution_count": 438,
   "id": "794bd4b3-082c-44a9-b7c5-e448edfc1a81",
   "metadata": {},
   "outputs": [
    {
     "name": "stdout",
     "output_type": "stream",
     "text": [
      "amp noise temp:\n",
      "(71.74121913045347+0j)\n",
      "Termi Noise temp:  (129908.33361038388+0j)\n"
     ]
    }
   ],
   "source": [
    "amp_path = '/Users/zacharybanken/Desktop/research_stuff/Terminator_Temp_Test/amplifier_data'\n",
    "amp_name = 'ZX60-33LNR-S+_UNIT2_.s2p'\n",
    "\n",
    "amp_sparam = return_ZX60_33LN_params(amp_path,amp_name,freq)\n",
    "\n",
    "def get_T(ntw):\n",
    "\n",
    "    I = np.identity(np.shape(ntw.s)[1])\n",
    "    AS = np.matmul(I,np.conjugate(ntw.s.swapaxes(1,2)))\n",
    "    SAS = np.matmul(ntw.s,AS)\n",
    "\n",
    "    Tntw = ntw.cs[:,1,1]/( K_BOLTZMANN * SAS[:,1,1] )\n",
    "    \n",
    "    print(Tntw[-1])\n",
    "\n",
    "print('amp noise temp:')\n",
    "get_T(amp_sparam)\n",
    "\n",
    "ntw_termi = cmp.create_terminator(freq,Gamma_0=0.048) # what is our terminator gamma_0?\n",
    "noisy_ntw_termi = read_in_noisy_network(ntw_termi, freq, 300)\n",
    "    \n",
    "    \n",
    "I = np.identity(np.shape(noisy_ntw_termi.s)[1])\n",
    "AS = np.matmul(I,np.conjugate(noisy_ntw_termi.s.swapaxes(1,2)))\n",
    "SAS = np.matmul(noisy_ntw_termi.s,AS)\n",
    "\n",
    "Tntw = noisy_ntw_termi.cs[:,0,0]/( K_BOLTZMANN * SAS[:,0,0] )\n",
    "    \n",
    "print('Termi Noise temp: ',Tntw[-1])\n"
   ]
  },
  {
   "cell_type": "code",
   "execution_count": null,
   "id": "412915bc-2db3-4569-9e2c-0b0b2025cc56",
   "metadata": {},
   "outputs": [],
   "source": []
  }
 ],
 "metadata": {
  "kernelspec": {
   "display_name": "Python 3 (ipykernel)",
   "language": "python",
   "name": "python3"
  },
  "language_info": {
   "codemirror_mode": {
    "name": "ipython",
    "version": 3
   },
   "file_extension": ".py",
   "mimetype": "text/x-python",
   "name": "python",
   "nbconvert_exporter": "python",
   "pygments_lexer": "ipython3",
   "version": "3.9.7"
  }
 },
 "nbformat": 4,
 "nbformat_minor": 5
}
