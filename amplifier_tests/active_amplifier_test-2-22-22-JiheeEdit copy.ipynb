{
 "cells": [
  {
   "cell_type": "code",
   "execution_count": 1,
   "id": "022613b4-8125-4dea-9ddc-7dc11c642095",
   "metadata": {},
   "outputs": [
    {
     "name": "stdout",
     "output_type": "stream",
     "text": [
      "No display found. Using non-interactive Agg backend.\n"
     ]
    },
    {
     "ename": "ModuleNotFoundError",
     "evalue": "No module named 'devices'",
     "output_type": "error",
     "traceback": [
      "\u001b[0;31m---------------------------------------------------------------------------\u001b[0m",
      "\u001b[0;31mModuleNotFoundError\u001b[0m                       Traceback (most recent call last)",
      "\u001b[0;32m/var/folders/nc/59gg2hz92w35s3ps0s6dxrs40000gn/T/ipykernel_18638/349193694.py\u001b[0m in \u001b[0;36m<module>\u001b[0;34m\u001b[0m\n\u001b[1;32m      6\u001b[0m \u001b[0;32mfrom\u001b[0m \u001b[0mpathlib\u001b[0m \u001b[0;32mimport\u001b[0m \u001b[0mPath\u001b[0m\u001b[0;34m\u001b[0m\u001b[0;34m\u001b[0m\u001b[0m\n\u001b[1;32m      7\u001b[0m \u001b[0;32mfrom\u001b[0m \u001b[0mscipy\u001b[0m\u001b[0;34m.\u001b[0m\u001b[0minterpolate\u001b[0m \u001b[0;32mimport\u001b[0m \u001b[0minterp1d\u001b[0m\u001b[0;34m\u001b[0m\u001b[0;34m\u001b[0m\u001b[0m\n\u001b[0;32m----> 8\u001b[0;31m \u001b[0;32mfrom\u001b[0m \u001b[0mdevices\u001b[0m\u001b[0;34m.\u001b[0m\u001b[0mdevices_lib\u001b[0m \u001b[0;32mimport\u001b[0m \u001b[0mmake_cavity__with_antennas_network\u001b[0m \u001b[0;31m# From Chirstan Boutan's PNNL team\u001b[0m\u001b[0;34m\u001b[0m\u001b[0;34m\u001b[0m\u001b[0m\n\u001b[0m\u001b[1;32m      9\u001b[0m \u001b[0;32mimport\u001b[0m \u001b[0mcomponents\u001b[0m \u001b[0;32mas\u001b[0m \u001b[0mcmp\u001b[0m \u001b[0;31m# From Jihee\u001b[0m\u001b[0;34m\u001b[0m\u001b[0;34m\u001b[0m\u001b[0m\n\u001b[1;32m     10\u001b[0m \u001b[0;32mimport\u001b[0m \u001b[0mos\u001b[0m\u001b[0;34m.\u001b[0m\u001b[0mpath\u001b[0m\u001b[0;34m\u001b[0m\u001b[0;34m\u001b[0m\u001b[0m\n",
      "\u001b[0;31mModuleNotFoundError\u001b[0m: No module named 'devices'"
     ]
    }
   ],
   "source": [
    "import skrf as rf\n",
    "from skrf.constants import K_BOLTZMANN\n",
    "import numpy as np\n",
    "import matplotlib.pyplot as plt\n",
    "import pandas as pd\n",
    "from pathlib import Path\n",
    "from scipy.interpolate import interp1d\n",
    "from devices.devices_lib import make_cavity__with_antennas_network # From Chirstan Boutan's PNNL team\n",
    "import components as cmp # From Jihee\n",
    "import os.path\n",
    "\n",
    "%matplotlib inline"
   ]
  },
  {
   "cell_type": "code",
   "execution_count": null,
   "id": "cd6e3cda-019c-4f4e-9677-572ac34233d0",
   "metadata": {},
   "outputs": [],
   "source": [
    "freq = rf.frequency.Frequency(start=0.4, stop=1.0, npoints=1001, unit='ghz', sweep_type='lin')\n",
    "Troom = 290"
   ]
  },
  {
   "cell_type": "markdown",
   "id": "ee5b366f-9c99-42cd-a1fd-ac7929af07a8",
   "metadata": {
    "tags": []
   },
   "source": [
    "# Component Functions"
   ]
  },
  {
   "cell_type": "code",
   "execution_count": null,
   "id": "032a99cb-3eee-42e2-8706-66fa17ae0f3a",
   "metadata": {},
   "outputs": [],
   "source": [
    "###############################\n",
    "##### Component Functions   ###\n",
    "###############################\n",
    "#(From Jihee's components.py and analyis_run1C_tsys.py)\n",
    "\n",
    "pow_to_dbm = lambda x: 10*np.log(x/1e-3)\n",
    "\n",
    "\n",
    "dBm_to_W = lambda p_dBm: 10**(p_dBm/10)/1000\n",
    "power_in_dBm_per_Hz_to_temp = lambda p: dBm_to_W(p)/K_BOLTZMANN\n",
    "\n",
    "T_SA = power_in_dBm_per_Hz_to_temp(-148.253) # <- Measured noise in dBm/Hz from spectrum analyzer with amplifiers off\n",
    "\n",
    "### Function to read network in noisy environment ###\n",
    "def read_in_noisy_network(ntw,freq_interp,Tphys):\n",
    "    ntw_interp = ntw.interpolate(freq_interp, kind='cubic')\n",
    "    ntw_interp_noisy = rf.NoisyNetwork(ntw_interp)\n",
    "    ntw_interp_noisy.noise_source(source='passive',T0 = Tphys)\n",
    "\n",
    "    return ntw_interp_noisy\n",
    "\n",
    "### Function to make coaxial cable with coaxial line and SMA connector sample ###\n",
    "def make_coax_cable(c_type,freq,len_m,Tphys):\n",
    "        \n",
    "    if c_type=='RG405U':\n",
    "        ntw_coax_RT = cmp.cable_RG405U(freq,len_m)     #! replace cables with room temp, right type\n",
    "        ntw_coax_cryo = cmp.RT2Cryo(ntw_coax_RT)\n",
    "        # ntw_coax_cryo = ntw_coax_RT\n",
    "        # ntw_SMA_RT = cmp.cable_RG405U(freq,0.04)\n",
    "        ntw_SMA_RT = cmp.SMA_RG405U(freq,0.015)\n",
    "        ntw_SMA_cryo = cmp.RT2Cryo(ntw_SMA_RT)\n",
    "        # ntw_SMA_cryo = ntw_SMA_RT\n",
    "    elif c_type=='PESR405FL':    \n",
    "        ntw_coax_RT = cmp.cable_PESR405FL(freq,len_m)\n",
    "        ntw_coax_cryo = cmp.RT2Cryo(ntw_coax_RT)\n",
    "        # ntw_coax_cryo = ntw_coax_RT\n",
    "        # ntw_SMA_RT = cmp.cable_PESR405FL(freq,0.04)\n",
    "        ntw_SMA_RT = cmp.SMA_PESR405FL(freq,0.015)\n",
    "        ntw_SMA_cryo = cmp.RT2Cryo(ntw_SMA_RT)\n",
    "        # ntw_SMA_cryo = ntw_SMA_RT\n",
    "    elif c_type=='NbTi085':\n",
    "        ntw_coax_cryo = cmp.cable_NbTi085(freq,len_m)\n",
    "        ntw_SMA_cryo = cmp.cable_NbTi085(freq,0.015)\n",
    "    else:\n",
    "        print('Error: Proper cable type is missing')\n",
    "\n",
    "    noisy_ntw_coax = read_in_noisy_network(ntw_coax_cryo,freq,Tphys)\n",
    "    noisy_ntw_SMA = read_in_noisy_network(ntw_SMA_cryo, freq, Tphys)\n",
    "    \n",
    "    assmb_cable = rf.MultiNoisyNetworkSystem()\n",
    "\n",
    "    noisy_ntw_SMA.add_noise_polar(1e-6, 0.5)\n",
    "    assmb_cable.add(noisy_ntw_SMA,'SMA1')\n",
    "    assmb_cable.add(noisy_ntw_coax,'coax')\n",
    "    noisy_ntw_SMA.add_noise_polar(1e-6, 0.55)\n",
    "    assmb_cable.add(noisy_ntw_SMA,'SMA2')\n",
    "\n",
    "    assmb_cable.connect('SMA1',2, 'coax',1)\n",
    "    assmb_cable.connect('coax',2, 'SMA2',1)\n",
    "\n",
    "    assmb_cable.external_port('SMA1',1,1)\n",
    "    assmb_cable.external_port('SMA2',2,2)\n",
    "\n",
    "    noisy_ntw_cable = assmb_cable.reduce()\n",
    "    noisy_ntw_cable = read_in_noisy_network(noisy_ntw_cable,freq,Tphys)\n",
    "        \n",
    "    return noisy_ntw_cable  "
   ]
  },
  {
   "cell_type": "code",
   "execution_count": null,
   "id": "ed1f4111",
   "metadata": {},
   "outputs": [],
   "source": [
    "print(T_SA)"
   ]
  },
  {
   "cell_type": "markdown",
   "id": "711e4156-37a1-4720-9799-dac9038cbaf0",
   "metadata": {
    "tags": []
   },
   "source": [
    "# Creating amplifier from datasheet\n",
    "Code from Jihee"
   ]
  },
  {
   "cell_type": "code",
   "execution_count": null,
   "id": "d35c8fbb-1131-4614-9e80-2724d96aeb6a",
   "metadata": {},
   "outputs": [],
   "source": [
    "# Creates a function of frequency that returns amplifier noise figure amplitudu\n",
    "def gen_ZX60_33LN_S_NF_func(ZX60_33LN_NF_loc):\n",
    "    \n",
    "    # read in nf data from a csv\n",
    "    # convert noise figure in db to amplitude\n",
    "    # Make a new column with frequency in GHz\n",
    "    # Interpolate noise figure as a function of frequency\n",
    "    \n",
    "    noise_figure_data2 = pd.read_csv(ZX60_33LN_NF_loc , header = 'infer')\n",
    "    noise_figure_data2['NF Amplitude'] = 10**(noise_figure_data2['Noise Figure (5V)']/10)\n",
    "    noise_figure_data2['Frequency (GHz)'] = noise_figure_data2['Frequency (MHz)']/1e3\n",
    "    NF_Func2 = interp1d(noise_figure_data2['Frequency (GHz)'],noise_figure_data2['NF Amplitude'])#,fill_value=1000) # <- extrapolate ok here?\n",
    "    \n",
    "    return NF_Func2\n",
    "\n",
    "def return_ZX60_33LN_params(Amp_path,Amp_name,freq,sat_check=False,vendor=True,Temp=290):\n",
    "    \n",
    "    # create amplifier from manufacturer's s2p file\n",
    "    \n",
    "    ZX60_33LN_NF_loc = r'/Users/zacharybanken/Desktop/research_stuff/Terminator_Temp_Test/amplifier_data/ZX60-33LN-S+NF_DATA.csv'\n",
    "    \n",
    "    Tphys = Temp\n",
    "    \n",
    "    Amp_loc = os.path.join(Amp_path,Amp_name)\n",
    "    amp_sparam = rf.Network(Amp_loc)\n",
    "    amp_sparam = amp_sparam.interpolate(freq,kind='cubic')\n",
    "    amp_sparam  = rf.NoisyNetwork(amp_sparam)\n",
    "    amp_sparam.noise_source(source='passive',T0=Tphys) # <-- why do we need this is we are specifying the cs matrix from the datasheet?\n",
    "    \n",
    "    # generate noise figure function\n",
    "    \n",
    "    #try:\n",
    "    NF_func = gen_ZX60_33LN_S_NF_func(ZX60_33LN_NF_loc)\n",
    "    nfig = NF_func(freq.f/1e9)\n",
    "    #except:\n",
    "       # print('error')\n",
    "       # return\n",
    "    \n",
    "    # use noise figure function to specify noise covariance matrix\n",
    "    # cs}_ii = k_B T_0 S A S^dagger }_ii (F_i - 1)\n",
    "        \n",
    "    Tnoise = rf.NetworkNoiseCov.Tnoise(freq.f,Tphys) # <-- where is this noise temperature used?\n",
    "    \n",
    "    I = np.identity(np.shape(amp_sparam.s)[1])\n",
    "    AS = np.matmul(I,np.conjugate(amp_sparam.s.swapaxes(1,2)))\n",
    "    SAS = np.matmul(amp_sparam.s,AS)\n",
    "    \n",
    "    amp_sparam.cs[:,0,0] = (nfig - 1) * K_BOLTZMANN * 290 * SAS[:,0,0]\n",
    "    \n",
    "    I = np.identity(np.shape(amp_sparam.s)[1])\n",
    "    AS = np.matmul(I,np.conjugate(amp_sparam.s.swapaxes(1,2)))\n",
    "    SAS = np.matmul(amp_sparam.s,AS)\n",
    "    \n",
    "    amp_sparam.cs[:,1,1] = (nfig-1) * K_BOLTZMANN * 290 * SAS[:,1,1]\n",
    "    \n",
    "    amp_sparam.cs[:,0,1] = np.zeros_like(amp_sparam.cs[:,1,1])\n",
    "    amp_sparam.cs[:,1,0] = amp_sparam.cs[:,0,1]\n",
    "    \n",
    "    return amp_sparam\n",
    "    "
   ]
  },
  {
   "cell_type": "code",
   "execution_count": null,
   "id": "c7e983b4-7896-4b8b-9438-d9713e4d5b97",
   "metadata": {},
   "outputs": [],
   "source": [
    "# #Amplifier\n",
    "# amp_path = './amplifier_data'\n",
    "# amp_name = 'ZX60-33LNR-S+_UNIT1_.s2p' #Our amplifier is ZX60-33LN-S+, gain of LNR ~0.1 dB less at 1 Ghz\n",
    "\n",
    "# amp_sparam = return_ZX60_33LN_params(amp_path,amp_name,freq)\n",
    "\n",
    "ZX60_33LN_NF_loc = r'/Users/zacharybanken/Desktop/research_stuff/Terminator_Temp_Test/amplifier_data/ZX60-33LN-S+NF_DATA.csv'\n",
    "noise_figure_data2 = pd.read_csv(ZX60_33LN_NF_loc , header = 'infer')\n",
    "noise_figure_data2.columns"
   ]
  },
  {
   "cell_type": "markdown",
   "id": "71a2d214-d6af-49b7-8771-372cdd8caac9",
   "metadata": {
    "tags": []
   },
   "source": [
    "# Assembling Networkcolumns"
   ]
  },
  {
   "cell_type": "code",
   "execution_count": null,
   "id": "f88c25a0",
   "metadata": {},
   "outputs": [],
   "source": [
    "### Plotting Cs matrix for cavity to second circulator for a list of terminator temperatures\n",
    "\n",
    "def plot_cs_simple_circuit(termi_temps):\n",
    "    \n",
    "    for termi_temp in termi_temps:\n",
    "        # Plot the power spectrum for the simple circuit setup in the lab. \n",
    "       \n",
    "    \n",
    "        #Terminator\n",
    "        ntw_termi = cmp.create_terminator(freq,Gamma_0=0.048) # what is our terminator gamma_0?\n",
    "        noisy_ntw_termi = read_in_noisy_network(ntw_termi, freq, termi_temp)\n",
    "\n",
    "        \n",
    "        #Cables\n",
    "        LEN_CABLE1 = 0.3 #m\n",
    "        LEN_CABLE2 = 0.3 #m\n",
    "\n",
    "        noisy_ntw_cable_1 = make_coax_cable('RG405U',freq,LEN_CABLE1,Troom) # <--- cable noise?\n",
    "        noisy_ntw_cable_2 = make_coax_cable('RG405U',freq,LEN_CABLE2,Troom)\n",
    "        \n",
    "        \n",
    "        #Amplifier\n",
    "        amp_path = '/Users/zacharybanken/Desktop/research_stuff/Terminator_Temp_Test/Amplifier Tests/amplifier_data/ZX60-33LNR-S+_UNIT1_.s2p'\n",
    "        amp_name = 'ZX60-33LNR-S+_UNIT1_.s2p' #Our amplifier is ZX60-33LN-S+, gain of LNR ~0.1 dB less at 1 Ghz\n",
    "\n",
    "        amp_sparam = return_ZX60_33LN_params(amp_path,amp_name,freq)\n",
    "    \n",
    "        amp1 = amp_sparam\n",
    "        amp2 = amp_sparam\n",
    "\n",
    "        \n",
    "        # Assemble circuit\n",
    "        # terminator -> cable 1 -> amp 1 -> amp 2 -> cable 2 -> Spectrum analyzer\n",
    "        mnns_simple_circ = rf.MultiNoisyNetworkSystem()\n",
    "\n",
    "        mnns_simple_circ.add(noisy_ntw_cable_1,'cable1')\n",
    "        mnns_simple_circ.add(noisy_ntw_cable_2,'cable2')\n",
    "        mnns_simple_circ.add(noisy_ntw_termi,'termi')\n",
    "        mnns_simple_circ.add(amp1,'amp1')\n",
    "        mnns_simple_circ.add(amp2,'amp2')\n",
    "\n",
    "        mnns_simple_circ.connect('termi',1,'cable1',1)\n",
    "        mnns_simple_circ.connect('cable1',2,'amp1',1)\n",
    "        mnns_simple_circ.connect('amp1',2,'amp2',1)\n",
    "        mnns_simple_circ.connect('amp2',2,'cable2',1)\n",
    "\n",
    "        mnns_simple_circ.external_port('cable2',2,1)\n",
    "\n",
    "        assem_simple_circ = mnns_simple_circ.reduce()\n",
    "        \n",
    "        \n",
    "        # Extract Noise temperature\n",
    "        ## Formula from Garcia paper\n",
    "               \n",
    "#         SAS = np.matmul(assem_simple_circ.s,np.conjugate(np.swapaxes(assem_simple_circ.s,1,2)))\n",
    "        # print(assem_simple_circ.s)\n",
    "        # print(np.swapaxes(assem_simple_circ.s,1,2))\n",
    "        # print(SAS.shape)\n",
    "        # print(assem_simple_circ.cs.shape)\n",
    "#         T_n_simple_circ  = (1/(K_BOLTZMANN))*assem_simple_circ.cs[:,0,0]/SAS[:,0,0] #+ T_SA # Te = 1/k_B * ( Cs / |s11|^2 ) <-- from formula for Cs.\n",
    "        \n",
    "        A = np.array([[1]])\n",
    "        AS  = np.matmul(A,np.conjugate(np.swapaxes(assem_simple_circ.s,1,2)))\n",
    "        SAS = np.matmul(assem_simple_circ.s,AS)\n",
    "        T_n_simple_circ  = (1/(K_BOLTZMANN))*(assem_simple_circ.cs[:,0,0])/SAS[:,0,0]\n",
    "        \n",
    "        print(termi_temp,'K: ',np.abs(T_n_simple_circ[-1])/1e9,'1e9')\n",
    "        \n",
    "        ## This below formula (Bosma's theorem; eq.9 from Garcia-Garcia/or eq. 12 with modified version only with |S_11|^2) should be used for 1 port device. \n",
    "        \n",
    "        I = np.identity(np.shape(assem_simple_circ.s)[1])\n",
    "        SS  = np.matmul(assem_simple_circ.s, np.conjugate(assem_simple_circ.s))\n",
    "        I_SS = (I-SS)\n",
    "        \n",
    "        # Bosma's theorem; eq.9 from Garcia-Garcia\n",
    "        T_n_simple_circ_1  = np.abs(assem_simple_circ.cs[:,0,0])/(K_BOLTZMANN*np.abs(I_SS[:,0,0])) \n",
    "        # From Garcia-Garcis, eq. 12 with modified version only with |S_11|^2\n",
    "        T_n_simple_circ_2  = np.abs(assem_simple_circ.cs[:,0,0])/(K_BOLTZMANN*np.abs(1-(assem_simple_circ.s[:,0,0])**2)) \n",
    "        # ==> I see there is some discrepancy. My feeling is to go with the second version (eq.12) since it is more explanatory for \n",
    "        \n",
    "        print(termi_temp,'K: ',np.abs(T_n_simple_circ_1[-1])/1e6,'1e6')\n",
    "        print(termi_temp,'K: ',np.abs(T_n_simple_circ_2[-1])/1e6,'1e6')\n",
    "\n",
    "        #         print(termi_temp,'K: ',np.real(T_n_simple_circ_1[-1])/1e6,'1e6')\n",
    "        \n",
    "#         plt.figure()\n",
    "#         # Plot noise temperature vs. frequency\n",
    "#         plt.xlim(990,1000)\n",
    "#         plt.plot(freq.f/1e6,T_n_simple_circ,label=termi_temp)\n",
    "#         plt.xlabel('Frequency [MHz]')\n",
    "#         plt.ylabel('Noise temp [K]')\n",
    "#         plt.title(f' Simple Circuit \\n noise temperature')\n",
    "#         plt.tight_layout(pad=0.3, w_pad=0.2, h_pad=0.2)\n",
    "#         plt.legend()\n",
    "        \n",
    "        # Plot noise temperature vs. frequency\n",
    "        plt.xlim(990,1000)\n",
    "        plt.plot(freq.f/1e6,10*np.log10(abs(assem_simple_circ.cs[:,0,0])/.001),label=termi_temp)\n",
    "        plt.xlabel('Frequency [MHz]')\n",
    "        plt.ylabel('Noise Power Spectral Density (dBm/Hz)')\n",
    "        plt.title(f' Simple Circuit \\n noise temperature')\n",
    "        plt.tight_layout(pad=0.3, w_pad=0.2, h_pad=0.2)\n",
    "        plt.legend()\n",
    "        \n",
    "        # Convert the cascaded network into noise spectral density format (dBm/Hz) to compare directly with the measurement \n",
    "        print(10*np.log10(abs(assem_simple_circ.cs[:,0,0])/.001)[-1])\n",
    "    # plot measured SA background noise temp\n",
    "#     plt.plot(freq.f/1e6, T_SA*np.ones_like(freq.f),label='SA')\n"
   ]
  },
  {
   "cell_type": "code",
   "execution_count": null,
   "id": "07680184",
   "metadata": {
    "scrolled": true
   },
   "outputs": [],
   "source": [
    "plot_cs_simple_circuit([290,77])"
   ]
  },
  {
   "cell_type": "markdown",
   "id": "236c54f0-d15d-4505-a1da-e35962c4cd8f",
   "metadata": {},
   "source": [
    "# Measured Values"
   ]
  },
  {
   "cell_type": "code",
   "execution_count": null,
   "id": "d3a0382b-730f-4264-ac8c-cd3b223299ad",
   "metadata": {},
   "outputs": [],
   "source": [
    "# noise power was measured at 1 Ghz over 1 Hz bandwidth (in dBm / Hz)\n",
    "\n",
    "print('SA (amp off): ',round(power_in_dBm_per_Hz_to_temp(-148.253)/1e6,5),'1e6 K' )\n",
    "print('T_termi = 290K: ',round(power_in_dBm_per_Hz_to_temp(-135.15)/1e6,5), '1e6 K')\n",
    "print('T_termi = 77K: ',round(power_in_dBm_per_Hz_to_temp(-138.611)/1e6,6), '1e6 K')"
   ]
  },
  {
   "cell_type": "code",
   "execution_count": null,
   "id": "4927e77b",
   "metadata": {},
   "outputs": [],
   "source": [
    "# Testing out the function for temp conversion => seems to be right\n",
    "print(power_in_dBm_per_Hz_to_temp(-174))"
   ]
  },
  {
   "cell_type": "code",
   "execution_count": null,
   "id": "4d0d341c-90a5-488c-ac16-1ecf8506ab92",
   "metadata": {},
   "outputs": [],
   "source": [
    "ZX60_33LN_NF_loc = r'./amplifier_data/ZX60-33LN_NF.csv'\n",
    "NF_func = gen_ZX60_33LN_S_NF_func(ZX60_33LN_NF_loc)\n",
    "nfig = NF_func(freq.f/1e9)\n",
    "plt.xlim(990,1000)\n",
    "plt.xlabel('Frequency [MHz]')\n",
    "plt.ylabel('Noise temp [K]')\n",
    "plt.plot(freq.f/1e6, (nfig-1)*290,label='T from NF')\n",
    "plt.legend()"
   ]
  },
  {
   "cell_type": "code",
   "execution_count": null,
   "id": "4da63763-7571-44d7-921f-a46c6f41818e",
   "metadata": {},
   "outputs": [],
   "source": [
    "freq.f"
   ]
  },
  {
   "cell_type": "code",
   "execution_count": null,
   "id": "80f9220e-36ce-4116-8e36-794981786705",
   "metadata": {},
   "outputs": [],
   "source": [
    "noise_figure_data2 = pd.read_csv(ZX60_33LN_NF_loc , header = 'infer')\n",
    "noise_figure_data2\n",
    "noise_figure_data2['NF Amplitude'] = 10**(noise_figure_data2['Noise Figure (5V)']/10)\n",
    "noise_figure_data2['Frequency (GHz)'] = noise_figure_data2['Frequency (MHz)']/1e3\n",
    "NF_Func2 = interp1d(noise_figure_data2['Frequency (GHz)'],noise_figure_data2['NF Amplitude'])#,fill_value='extrapolate') # <- extrapolate ok here?\n",
    "    \n",
    "noise_figure_data2"
   ]
  },
  {
   "cell_type": "code",
   "execution_count": null,
   "id": "bf8a4c58-3bf2-4338-a380-5cef52a281a2",
   "metadata": {},
   "outputs": [],
   "source": [
    "NF_func = gen_ZX60_33LN_S_NF_func(ZX60_33LN_NF_loc)\n",
    "NF_func((50/1e3))\n",
    "NF_func(1200/1e3)"
   ]
  },
  {
   "cell_type": "code",
   "execution_count": null,
   "id": "b8d20fda-7b2a-46f2-a353-be54c8bf4be4",
   "metadata": {},
   "outputs": [],
   "source": [
    "plt.xlim(0.5,1)\n",
    "plt.ylim(1.250,1.375)\n",
    "plt.plot(noise_figure_data2['Frequency (GHz)'],noise_figure_data2['NF Amplitude'],label='data')\n",
    "plt.plot(freq.f/1e9,NF_func(freq.f/1e9),'-.',label='interp')\n",
    "plt.legend()"
   ]
  },
  {
   "cell_type": "code",
   "execution_count": null,
   "id": "f6f9dc06-f730-4517-8c8a-40d6d118712e",
   "metadata": {},
   "outputs": [],
   "source": [
    "SAS = np.matmul(amp_sparam.s,np.conjugate(np.swapaxes(amp_sparam.s,1,2)))\n",
    "plt.plot(freq.f/1e6, amp_sparam.cs[:,1,1] / ( K_BOLTZMANN * SAS[:,1,1] ) ) \n",
    "plt.xlim(500,1000)\n",
    "plt.xlabel('Frequency [MHz]')\n",
    "plt.ylabel('Noise Temp [K]')\n",
    "plt.title(f' Amplifier')\n",
    "plt.legend()\n",
    "plt.tight_layout(pad=0.3, w_pad=0.2, h_pad=0.2)"
   ]
  },
  {
   "cell_type": "code",
   "execution_count": null,
   "id": "fca4c843-3bc1-4d22-8dab-14d2744fa57c",
   "metadata": {},
   "outputs": [],
   "source": [
    "amp_sparam.s[:,0,0]"
   ]
  },
  {
   "cell_type": "code",
   "execution_count": null,
   "id": "d96c842c-be32-4b44-a1c7-0f0feb0b1243",
   "metadata": {},
   "outputs": [],
   "source": [
    "noisy_ntw_cable_1 = make_coax_cable('RG405U',freq,0.3,Troom)\n",
    "\n",
    "I = np.identity(np.shape(noisy_ntw_cable_1.s)[1])\n",
    "AS = np.matmul(I,np.conjugate(noisy_ntw_cable_1.s.swapaxes(1,2)))\n",
    "SAS = np.matmul(noisy_ntw_cable_1.s,AS)\n",
    "\n",
    "Tcable = noisy_ntw_cable_1.cs[:,1,1]/( K_BOLTZMANN * SAS[:,1,1] )\n",
    "Tcable[-1]"
   ]
  },
  {
   "cell_type": "code",
   "execution_count": null,
   "id": "09b5cad3-0d8d-416f-ac4a-bf3e3b8304cc",
   "metadata": {},
   "outputs": [],
   "source": [
    "I = np.identity(np.shape(noisy_ntw_cable_1.s)[1])\n",
    "AS = np.matmul(I,np.conjugate(noisy_ntw_cable_1.s.swapaxes(1,2)))\n",
    "SAS = np.matmul(noisy_ntw_cable_1.s,AS)\n",
    "\n",
    "Tcable = noisy_ntw_cable_1.cs[:,1,1]/( K_BOLTZMANN * SAS[:,1,1] )\n",
    "print('cable noise temp: ',Tcable[-1])"
   ]
  },
  {
   "cell_type": "code",
   "execution_count": null,
   "id": "794bd4b3-082c-44a9-b7c5-e448edfc1a81",
   "metadata": {},
   "outputs": [],
   "source": [
    "amp_path = './amplifier_data'\n",
    "amp_name = 'ZX60-33LNR-S+_UNIT2_.s2p'\n",
    "\n",
    "amp_sparam = return_ZX60_33LN_params(amp_path,amp_name,freq)\n",
    "\n",
    "def get_T(ntw):\n",
    "\n",
    "    I = np.identity(np.shape(ntw.s)[1])\n",
    "    AS = np.matmul(I,np.conjugate(ntw.s.swapaxes(1,2)))\n",
    "    SAS = np.matmul(ntw.s,AS)\n",
    "\n",
    "    Tntw = ntw.cs[:,1,1]/( K_BOLTZMANN * SAS[:,1,1] )\n",
    "    \n",
    "    print(Tntw[-1])\n",
    "\n",
    "print('amp noise temp:')\n",
    "get_T(amp_sparam)\n",
    "\n",
    "ntw_termi = cmp.create_terminator(freq,Gamma_0=0.048) # what is our terminator gamma_0?\n",
    "noisy_ntw_termi = read_in_noisy_network(ntw_termi, freq, 290)\n",
    "    \n",
    "    \n",
    "I = np.identity(np.shape(noisy_ntw_termi.s)[1])\n",
    "AS = np.matmul(I,np.conjugate(noisy_ntw_termi.s.swapaxes(1,2)))\n",
    "SAS = np.matmul(noisy_ntw_termi.s,AS)\n",
    "\n",
    "Tntw = noisy_ntw_termi.cs[:,0,0]/( K_BOLTZMANN * SAS[:,0,0] )\n",
    "    \n",
    "print('Termi Noise temp: ',Tntw[-1])\n"
   ]
  },
  {
   "cell_type": "code",
   "execution_count": null,
   "id": "9c475328",
   "metadata": {},
   "outputs": [],
   "source": [
    "print(noisy_ntw_termi)"
   ]
  }
 ],
 "metadata": {
  "kernelspec": {
   "display_name": "Python 3 (ipykernel)",
   "language": "python",
   "name": "python3"
  },
  "language_info": {
   "codemirror_mode": {
    "name": "ipython",
    "version": 3
   },
   "file_extension": ".py",
   "mimetype": "text/x-python",
   "name": "python",
   "nbconvert_exporter": "python",
   "pygments_lexer": "ipython3",
   "version": "3.9.7"
  }
 },
 "nbformat": 4,
 "nbformat_minor": 5
}
