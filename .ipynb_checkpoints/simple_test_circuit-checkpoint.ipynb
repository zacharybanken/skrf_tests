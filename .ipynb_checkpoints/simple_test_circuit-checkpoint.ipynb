{
 "cells": [
  {
   "cell_type": "code",
   "execution_count": 1,
   "id": "0f6621c2-fd06-4db9-a92e-2c2749f21958",
   "metadata": {},
   "outputs": [
    {
     "name": "stdout",
     "output_type": "stream",
     "text": [
      "No display found. Using non-interactive Agg backend.\n"
     ]
    }
   ],
   "source": [
    "import skrf as rf\n",
    "from skrf.constants import K_BOLTZMANN\n",
    "import numpy as np\n",
    "import matplotlib.pyplot as plt\n",
    "import pandas as pd\n",
    "from pathlib import Path\n",
    "from scipy.interpolate import interp1d\n",
    "from devices.devices_lib import make_cavity__with_antennas_network # From Chirstan Boutan's PNNL team\n",
    "import components as cmp # From Jihee\n",
    "\n",
    "%matplotlib inline"
   ]
  },
  {
   "cell_type": "code",
   "execution_count": 2,
   "id": "7ce55f5d-3027-4478-b3e7-3174b6790329",
   "metadata": {},
   "outputs": [],
   "source": [
    "freq = rf.frequency.Frequency(start=0.5, stop=1.5, npoints=1001, unit='ghz', sweep_type='lin')\n",
    "Troom = 300 #K"
   ]
  },
  {
   "cell_type": "code",
   "execution_count": 3,
   "id": "9b9de000-e65a-426e-beb3-a754fdd16ce3",
   "metadata": {},
   "outputs": [],
   "source": [
    "###############################\n",
    "##### Component Functions   ###\n",
    "###############################\n",
    "#(From Jihee's components.py and analyis_run1C_tsys.py)\n",
    "\n",
    "\n",
    "### Function to read network in noisy environment ###\n",
    "def read_in_noisy_network(ntw,freq_interp,Tphys):\n",
    "    ntw_interp = ntw.interpolate(freq_interp, kind='cubic')\n",
    "    ntw_interp_noisy = rf.NoisyNetwork(ntw_interp)\n",
    "    ntw_interp_noisy.noise_source(source='passive',T0 = Tphys)\n",
    "\n",
    "    return ntw_interp_noisy\n",
    "\n",
    "### Function to make coaxial cable with coaxial line and SMA connector sample ###\n",
    "def make_coax_cable(c_type,freq,len_m,Tphys):\n",
    "        \n",
    "    if c_type=='RG405U':\n",
    "        ntw_coax_RT = cmp.cable_RG405U(freq,len_m)\n",
    "        ntw_coax_cryo = cmp.RT2Cryo(ntw_coax_RT)\n",
    "        # ntw_coax_cryo = ntw_coax_RT\n",
    "        # ntw_SMA_RT = cmp.cable_RG405U(freq,0.04)\n",
    "        ntw_SMA_RT = cmp.SMA_RG405U(freq,0.015)\n",
    "        ntw_SMA_cryo = cmp.RT2Cryo(ntw_SMA_RT)\n",
    "        # ntw_SMA_cryo = ntw_SMA_RT\n",
    "    elif c_type=='PESR405FL':    \n",
    "        ntw_coax_RT = cmp.cable_PESR405FL(freq,len_m)\n",
    "        ntw_coax_cryo = cmp.RT2Cryo(ntw_coax_RT)\n",
    "        # ntw_coax_cryo = ntw_coax_RT\n",
    "        # ntw_SMA_RT = cmp.cable_PESR405FL(freq,0.04)\n",
    "        ntw_SMA_RT = cmp.SMA_PESR405FL(freq,0.015)\n",
    "        ntw_SMA_cryo = cmp.RT2Cryo(ntw_SMA_RT)\n",
    "        # ntw_SMA_cryo = ntw_SMA_RT\n",
    "    elif c_type=='NbTi085':\n",
    "        ntw_coax_cryo = cmp.cable_NbTi085(freq,len_m)\n",
    "        ntw_SMA_cryo = cmp.cable_NbTi085(freq,0.015)\n",
    "    else:\n",
    "        print('Error: Proper cable type is missing')\n",
    "\n",
    "    noisy_ntw_coax = read_in_noisy_network(ntw_coax_cryo,freq,Tphys)\n",
    "    noisy_ntw_SMA = read_in_noisy_network(ntw_SMA_cryo, freq, Tphys)\n",
    "    \n",
    "    assmb_cable = rf.MultiNoisyNetworkSystem()\n",
    "\n",
    "    noisy_ntw_SMA.add_noise_polar(1e-6, 0.5)\n",
    "    assmb_cable.add(noisy_ntw_SMA,'SMA1')\n",
    "    assmb_cable.add(noisy_ntw_coax,'coax')\n",
    "    noisy_ntw_SMA.add_noise_polar(1e-6, 0.55)\n",
    "    assmb_cable.add(noisy_ntw_SMA,'SMA2')\n",
    "\n",
    "    assmb_cable.connect('SMA1',2, 'coax',1)\n",
    "    assmb_cable.connect('coax',2, 'SMA2',1)\n",
    "\n",
    "    assmb_cable.external_port('SMA1',1,1)\n",
    "    assmb_cable.external_port('SMA2',2,2)\n",
    "\n",
    "    noisy_ntw_cable = assmb_cable.reduce()\n",
    "    noisy_ntw_cable = read_in_noisy_network(noisy_ntw_cable,freq,Tphys)\n",
    "        \n",
    "    return noisy_ntw_cable  "
   ]
  },
  {
   "cell_type": "markdown",
   "id": "fabac829-e801-4d58-87a6-346634793581",
   "metadata": {},
   "source": [
    "## - how do I add an amplifier?\n",
    "## - add in parts with specified values\n",
    "## - calculation using friis formula on paper -- noise temperatures?\n",
    "\n",
    "## - use S11 for one-port network noise power?"
   ]
  },
  {
   "cell_type": "code",
   "execution_count": 4,
   "id": "1fbd7153-3202-440d-b349-c8281e7b0b14",
   "metadata": {},
   "outputs": [],
   "source": [
    "db_to_pow = lambda x: 10**(x/10)\n",
    "\n",
    "def make_amplifier(freq,G):\n",
    "    \n",
    "    #G = 21.3 #db, Vdd = 5.0 V, typ at 2Ghz.\n",
    "    \n",
    "    RL_1 = 15.0 \n",
    "    RL_2 = 11.0\n",
    "    reverse_isolation_db = -21 #mouser.com, ZX60-83LN-S+\n",
    "\n",
    "    A = np.sqrt( db_to_pow(G) )\n",
    "    reflection_1 = np.sqrt( db_to_pow(RL_1) ) #Formula ???\n",
    "    reflection_2 = np.sqrt( db_to_pow(RL_2) )\n",
    "    \n",
    "    isolation = np.sqrt( db_to_pow(reverse_isolation_db) ) \n",
    "\n",
    "    s = np.zeros((len(freq), 2, 2))\n",
    "\n",
    "    s[:,0,0] = reflection_1\n",
    "    s[:,0,1] = isolation\n",
    "    s[:,1,0] = A\n",
    "    s[:,1,1] = reflection_2\n",
    "    \n",
    "    return rf.Network(frequency=freq,s=s)\n",
    "    \n",
    "def make_ideal_amplifier(freq,G):\n",
    "    \n",
    "    #G = 21.3 #db, Vdd = 5.0 V, typ at 2Ghz.\n",
    "    \n",
    "    A = np.sqrt( 10**(G/10) )\n",
    "\n",
    "    s = np.zeros((len(freq), 2, 2))\n",
    "    \n",
    "    eps=1e-12\n",
    "\n",
    "    s[:,0,0] = eps\n",
    "    s[:,0,1] = eps\n",
    "    s[:,1,0] = A\n",
    "    s[:,1,1] = eps\n",
    "    \n",
    "    return rf.Network(frequency=freq,s=s)"
   ]
  },
  {
   "cell_type": "code",
   "execution_count": 5,
   "id": "897102fc-63c6-4497-ac8b-e423997b7ced",
   "metadata": {},
   "outputs": [
    {
     "data": {
      "image/png": "[encoded data removed]",
      "text/plain": [
       "<Figure size 432x288 with 1 Axes>"
      ]
     },
     "metadata": {
      "needs_background": "light"
     },
     "output_type": "display_data"
    }
   ],
   "source": [
    "amp = make_amplifier(freq,21.3)\n",
    "amp.plot_s_db()"
   ]
  },
  {
   "cell_type": "code",
   "execution_count": 6,
   "id": "97f0038e-21c7-4ef4-bee9-3d06e6358dd6",
   "metadata": {},
   "outputs": [],
   "source": [
    "\n",
    "### Plotting Cs matrix for cavity to second circulator\n",
    "\n",
    "def plot_cs_simple_circuit():\n",
    "    \n",
    "    \n",
    "        # Plot the power spectrum for the simple circuit setup in the lab. \n",
    "        # terminator -> cable -> amplifier -> spectrum analyzer\n",
    "    \n",
    "        #Terminator\n",
    "        termi_temp = Troom\n",
    "        ntw_termi = cmp.create_terminator(freq,Gamma_0=0.048) # [[What determines gamma_0 here?]]\n",
    "        noisy_ntw_termi = read_in_noisy_network(ntw_termi, freq, termi_temp) ## <------ function parameter\n",
    "\n",
    "        #Cables\n",
    "        LEN_CABLE1 = 0.01 #m\n",
    "        LEN_CABLE2 = 0.01 #m\n",
    "\n",
    "        noisy_ntw_cable_1 = make_coax_cable('RG405U',freq,LEN_CABLE1,Troom)\n",
    "        noisy_ntw_cable_2 = make_coax_cable('RG405U',freq,LEN_CABLE2,Troom)\n",
    "        \n",
    "        #Amplifier\n",
    "        amplifier = make_amplifier(freq, 21.3)\n",
    "        noisy_amp = read_in_noisy_network(amplifier,freq,Troom)\n",
    "\n",
    "        # Assemble circuit\n",
    "        mnns_simple_circ = rf.MultiNoisyNetworkSystem()\n",
    "\n",
    "\n",
    "        mnns_simple_circ.add(noisy_ntw_cable_1,'cable1')\n",
    "        mnns_simple_circ.add(noisy_ntw_cable_2,'cable2')\n",
    "        mnns_simple_circ.add(noisy_ntw_termi,'termi')\n",
    "        mnns_simple_circ.add(noisy_amp,'amp')\n",
    "\n",
    "\n",
    "        # components.py - \"Assumes clockwise circulator (1=>2=>3=>1...)\"\n",
    "        mnns_simple_circ.connect('termi',1,'cable1',2)\n",
    "        mnns_simple_circ.connect('cable1',1,'amp',2)\n",
    "        mnns_simple_circ.connect('amp',1,'cable2',2)\n",
    "\n",
    "        mnns_simple_circ.external_port('cable2',1,1)\n",
    "\n",
    "        assem_simple_circ = mnns_simple_circ.reduce()\n",
    "        \n",
    "        #print(assem_simple_circ.cs)\n",
    "\n",
    "        plt.plot(freq.f/1e9,assem_simple_circ.cs[:,0])\n",
    "        plt.xlim(0.5,1.5)\n",
    "        plt.xlabel('Frequency [GHz]')\n",
    "        plt.ylabel('Power')\n",
    "        plt.title(f' Simple Circuit \\n Intrinsic noise power of 1 Hz bandwidth')\n",
    "        plt.legend()\n",
    "        plt.tight_layout(pad=0.3, w_pad=0.2, h_pad=0.2)\n"
   ]
  },
  {
   "cell_type": "code",
   "execution_count": 7,
   "id": "7713961e-b3b0-44ff-a089-5ec2a6a28304",
   "metadata": {},
   "outputs": [
    {
     "name": "stderr",
     "output_type": "stream",
     "text": [
      "/Users/zacharybanken/opt/anaconda3/lib/python3.9/site-packages/numpy/core/_asarray.py:102: ComplexWarning: Casting complex values to real discards the imaginary part\n",
      "  return array(a, dtype, copy=False, order=order)\n",
      "No handles with labels found to put in legend.\n"
     ]
    },
    {
     "data": {
      "image/png": "[encoded data removed]",
      "text/plain": [
       "<Figure size 432x288 with 1 Axes>"
      ]
     },
     "metadata": {
      "needs_background": "light"
     },
     "output_type": "display_data"
    }
   ],
   "source": [
    "plot_cs_simple_circuit()"
   ]
  },
  {
   "cell_type": "code",
   "execution_count": 8,
   "id": "3759279b-4e5b-4b6e-a778-d6fd342d2874",
   "metadata": {},
   "outputs": [
    {
     "name": "stderr",
     "output_type": "stream",
     "text": [
      "/Users/zacharybanken/opt/anaconda3/lib/python3.9/site-packages/numpy/core/_asarray.py:102: ComplexWarning: Casting complex values to real discards the imaginary part\n",
      "  return array(a, dtype, copy=False, order=order)\n"
     ]
    },
    {
     "data": {
      "image/png": "[encoded data removed]",
      "text/plain": [
       "<Figure size 432x288 with 1 Axes>"
      ]
     },
     "metadata": {
      "needs_background": "light"
     },
     "output_type": "display_data"
    }
   ],
   "source": [
    "#Terminator\n",
    "termi_temp = Troom\n",
    "ntw_termi = cmp.create_terminator(freq,Gamma_0=0.048) # [[What determines gamma_0 here?]]\n",
    "noisy_ntw_termi = read_in_noisy_network(ntw_termi, freq, termi_temp) ## <------ function parameter\n",
    "\n",
    "#Cables\n",
    "LEN_CABLE1 = 0.01 #m\n",
    "LEN_CABLE2 = 0.01 #m\n",
    "\n",
    "noisy_ntw_cable_1 = make_coax_cable('RG405U',freq,LEN_CABLE1,Troom)\n",
    "noisy_ntw_cable_2 = make_coax_cable('RG405U',freq,LEN_CABLE2,Troom)\n",
    "\n",
    "#Amplifier\n",
    "amplifier = make_amplifier(freq, 21.3)\n",
    "noisy_amp = read_in_noisy_network(amplifier,freq,Troom)\n",
    "\n",
    "ideal_amplifier = make_ideal_amplifier(freq, 21.3)\n",
    "noisy_ideal_amp = read_in_noisy_network(amplifier,freq,Troom)\n",
    "\n",
    "\n",
    "\n",
    "# plt.plot(freq.f/1e9,noisy_ideal_amp.cs[:,1,1],label='ideal amp')\n",
    "\n",
    "\n",
    "plt.plot(freq.f/1e9,noisy_amp.cs[:,1,1],label='amp')\n",
    "\n",
    "# plt.show()\n",
    "# plt.plot(freq.f/1e9,noisy_ntw_cable_1.cs[:,1,1],label='cable')\n",
    "# plt.show()\n",
    "\n",
    "plt.xlim(0.5,1.5)\n",
    "plt.xlabel('Frequency [GHz]')\n",
    "plt.ylabel('Power [W]')\n",
    "plt.title(f' amp \\n Noise Covariance matrix element [1,1]')\n",
    "plt.legend()\n",
    "plt.tight_layout(pad=0.3, w_pad=0.2, h_pad=0.2)"
   ]
  },
  {
   "cell_type": "code",
   "execution_count": 9,
   "id": "d19cc9ec-5d56-42ec-9831-549e136fd19a",
   "metadata": {},
   "outputs": [],
   "source": [
    "# Why is noise power negative for the amplifier??"
   ]
  },
  {
   "cell_type": "code",
   "execution_count": 10,
   "id": "db324c91-fe34-4e30-9c29-96cedc188272",
   "metadata": {},
   "outputs": [],
   "source": [
    "def make_amplifier(freq,G):\n",
    "    \n",
    "    db_to_pow = lambda x: 10**(x/10)\n",
    "    \n",
    "    RL_1 = 15.0 \n",
    "    RL_2 = 11.0\n",
    "    reverse_isolation_db = -21 #mouser.com, ZX60-83LN-S+\n",
    "\n",
    "    A = np.sqrt( db_to_pow(G) )\n",
    "    reflection_1 = np.sqrt( db_to_pow(RL_1) ) #Formula ???\n",
    "    reflection_2 = np.sqrt( db_to_pow(RL_2) )\n",
    "    \n",
    "    isolation = np.sqrt( db_to_pow(reverse_isolation_db) ) \n",
    "\n",
    "    s = np.zeros((len(freq), 2, 2))\n",
    "\n",
    "    s[:,0,0] = reflection_1\n",
    "    s[:,0,1] = isolation\n",
    "    s[:,1,0] = A\n",
    "    s[:,1,1] = reflection_2\n",
    "    \n",
    "    return rf.Network(frequency=freq,s=s)"
   ]
  },
  {
   "cell_type": "code",
   "execution_count": 11,
   "id": "41161a7f-401e-47e4-ae02-4429d8224a58",
   "metadata": {},
   "outputs": [
    {
     "name": "stderr",
     "output_type": "stream",
     "text": [
      "/Users/zacharybanken/opt/anaconda3/lib/python3.9/site-packages/numpy/core/_asarray.py:102: ComplexWarning: Casting complex values to real discards the imaginary part\n",
      "  return array(a, dtype, copy=False, order=order)\n"
     ]
    },
    {
     "data": {
      "image/png": "[encoded data removed]",
      "text/plain": [
       "<Figure size 432x288 with 1 Axes>"
      ]
     },
     "metadata": {
      "needs_background": "light"
     },
     "output_type": "display_data"
    }
   ],
   "source": [
    "Troom = 300 #K\n",
    "amplifier = make_amplifier(freq, 21.3) #G = 21.3 #db, Vdd = 5.0 V, typ at 2Ghz.\n",
    "noisy_amp = read_in_noisy_network(amplifier,freq,Troom)\n",
    "\n",
    "plt.plot(freq.f/1e9,noisy_amp.cs[:,1,1]/1e-3,label='amp')\n",
    "\n",
    "plt.xlim(0.5,1.5)\n",
    "plt.xlabel('Frequency [GHz]')\n",
    "plt.ylabel('Power [W]')\n",
    "plt.title(f' Amplifier \\n Noise Covariance matrix element [1,1]')\n",
    "plt.legend()\n",
    "plt.tight_layout(pad=0.3, w_pad=0.2, h_pad=0.2)"
   ]
  },
  {
   "cell_type": "code",
   "execution_count": null,
   "id": "7ae553ea-17ee-409e-8560-10f86cd2919b",
   "metadata": {},
   "outputs": [],
   "source": []
  },
  {
   "cell_type": "markdown",
   "id": "3be55e60-5406-4433-92af-9513629b8f0f",
   "metadata": {},
   "source": [
    "## Calculating noise power by finding noise temp first"
   ]
  },
  {
   "cell_type": "code",
   "execution_count": 60,
   "id": "a2def1b9-5c02-422a-903c-db22e86c7463",
   "metadata": {},
   "outputs": [],
   "source": [
    "def plot_cs_termi2sa():\n",
    "    \n",
    "    \n",
    "        # Plot the power spectrum for the simple circuit setup in the lab. \n",
    "        # terminator -> cable -> amplifier -> cable -> spectrum analyzer\n",
    "    \n",
    "        #Terminator\n",
    "        ntw_termi = cmp.create_terminator(freq,Gamma_0=0.048) # what is the reflection coefficient from termi datasheet? #0.048\n",
    "        noisy_ntw_termi = read_in_noisy_network(ntw_termi, freq, Troom)\n",
    "\n",
    "        #Cables\n",
    "        LEN_CABLE1 = 0.3 #m\n",
    "        LEN_CABLE2 = 0.3 #m\n",
    "\n",
    "        noisy_ntw_cable_1 = make_coax_cable('RG405U',freq,LEN_CABLE1,Troom)\n",
    "        noisy_ntw_cable_2 = make_coax_cable('RG405U',freq,LEN_CABLE2,Troom)\n",
    "    \n",
    "        \n",
    "        # termi -> amp\n",
    "\n",
    "        mnns_termi2amp = rf.MultiNoisyNetworkSystem()\n",
    "\n",
    "        mnns_termi2amp.add(noisy_ntw_termi,'termi')\n",
    "        mnns_termi2amp.add(noisy_ntw_cable_1,'cable1')\n",
    "        \n",
    "        mnns_termi2amp.connect('termi',1,'cable1',2)\n",
    "\n",
    "        mnns_termi2amp.external_port('cable1',1,1)\n",
    "\n",
    "        assem_termi2amp = mnns_termi2amp.reduce()\n",
    "        \n",
    "        # amp -> SA\n",
    "      \n",
    "        assem_amp2sa = noisy_ntw_cable_2\n",
    "        \n",
    "        ### Noise temperature extraction\n",
    "        \n",
    "        # Find Noise Temp along path to amplifier: (From Garcia-Garcia paper eqn 18)\n",
    "        # print(assem_termi2amp.s.shape)\n",
    "        # print(np.swapaxes(assem_termi2amp.s,1,2).shape)\n",
    "        \n",
    "        SAS = np.matmul(assem_termi2amp.s,np.conjugate(np.swapaxes(assem_termi2amp.s,1,2)))\n",
    "        # print('sas',SAS.shape)\n",
    "        # print('00',SAS[:,0,0])\n",
    "        # print('0',SAS[:,0])\n",
    "        T_n_termi2amp  = (1/(K_BOLTZMANN))*assem_termi2amp.cs[:,0,0]/SAS[:,0,0]\n",
    "\n",
    "        # Find Noise Temp from amplifier to analyzer:\n",
    "        # print(assem_amp2sa.s.shape)\n",
    "        # print(np.swapaxes(assem_amp2sa.s,1,2).shape)\n",
    "        \n",
    "        A = np.array([[1, 0],[0,0]]) \n",
    "        AS  = np.matmul(A,np.conjugate(np.swapaxes(assem_amp2sa.s,1,2)))\n",
    "        \n",
    "        SAS = np.matmul(assem_amp2sa.s,AS)\n",
    "        \n",
    "        # print('sas 2',SAS.shape)\n",
    "        T_n_amp2sa  = (1/(K_BOLTZMANN))*assem_amp2sa.cs[:,1,1]/SAS[:,1,1]\n",
    "\n",
    "        # Noise Temp of JPA:\n",
    "        g_amp = 10**(21.3/10)\n",
    "        T_n_amp = 2*rf.NetworkNoiseCov.Tnoise(freq.f,Troom) \n",
    "        g_termi2amp = abs(assem_termi2amp.s[:,0,0])\n",
    "\n",
    "\n",
    "        # Noise of path 1 + amplifier + path 2: (from Friis formula) \n",
    "        T_n_sys = T_n_termi2amp + (T_n_amp/g_termi2amp) + (T_n_amp2sa)/(g_termi2amp*g_amp) \n",
    "        P_n = K_BOLTZMANN * T_n_sys\n",
    "        \n",
    "        \n",
    "        # plotting\n",
    "        plt.plot( freq.f/1e9,10*np.log(P_n/1e-3) )\n",
    "        plt.xlim(0.5,1.5);                      #plt.ylim(-361,-361+3)\n",
    "        plt.xlabel('Frequency [GHz]');          plt.ylabel('Power [dBm]')\n",
    "        plt.title(f' termi -> cable -> amp -> cable \\n  Noise power of 1 Hz bandwidth\\n')"
   ]
  },
  {
   "cell_type": "code",
   "execution_count": 61,
   "id": "753c5368-1ad0-4455-a201-d40b9dc952d3",
   "metadata": {},
   "outputs": [
    {
     "name": "stdout",
     "output_type": "stream",
     "text": [
      "(1001, 1, 1)\n",
      "(1001, 1, 1)\n",
      "sas (1001, 1, 1)\n",
      "00 [0.00221811+0.j 0.00221834+0.j 0.00221809+0.j ... 0.00215008+0.j\n",
      " 0.00215008+0.j 0.0021501 +0.j]\n",
      "0 [[0.00221811+0.j]\n",
      " [0.00221834+0.j]\n",
      " [0.00221809+0.j]\n",
      " ...\n",
      " [0.00215008+0.j]\n",
      " [0.00215008+0.j]\n",
      " [0.0021501 +0.j]]\n",
      "(1001, 2, 2)\n",
      "(1001, 2, 2)\n",
      "sas 2 (1001, 2, 2)\n"
     ]
    },
    {
     "name": "stderr",
     "output_type": "stream",
     "text": [
      "/Users/zacharybanken/opt/anaconda3/lib/python3.9/site-packages/numpy/core/_asarray.py:102: ComplexWarning: Casting complex values to real discards the imaginary part\n",
      "  return array(a, dtype, copy=False, order=order)\n"
     ]
    },
    {
     "data": {
      "image/png": "[encoded data removed]",
      "text/plain": [
       "<Figure size 432x288 with 1 Axes>"
      ]
     },
     "metadata": {
      "needs_background": "light"
     },
     "output_type": "display_data"
    }
   ],
   "source": [
    "plot_cs_termi2sa()"
   ]
  },
  {
   "cell_type": "code",
   "execution_count": null,
   "id": "ccae356a-c916-4330-bf50-8de414f171a4",
   "metadata": {},
   "outputs": [],
   "source": []
  }
 ],
 "metadata": {
  "kernelspec": {
   "display_name": "Python 3 (ipykernel)",
   "language": "python",
   "name": "python3"
  },
  "language_info": {
   "codemirror_mode": {
    "name": "ipython",
    "version": 3
   },
   "file_extension": ".py",
   "mimetype": "text/x-python",
   "name": "python",
   "nbconvert_exporter": "python",
   "pygments_lexer": "ipython3",
   "version": "3.9.7"
  }
 },
 "nbformat": 4,
 "nbformat_minor": 5
}
